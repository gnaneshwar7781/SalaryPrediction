{
  "cells": [
    {
      "cell_type": "markdown",
      "metadata": {
        "id": "view-in-github",
        "colab_type": "text"
      },
      "source": [
        "<a href=\"https://colab.research.google.com/github/gnaneshwar7781/SalaryPrediction/blob/main/salaryPrediction.ipynb\" target=\"_parent\"><img src=\"https://colab.research.google.com/assets/colab-badge.svg\" alt=\"Open In Colab\"/></a>"
      ]
    },
    {
      "cell_type": "code",
      "execution_count": 1,
      "id": "52498e32",
      "metadata": {
        "_cell_guid": "b1076dfc-b9ad-4769-8c92-a6c4dae69d19",
        "_uuid": "8f2839f25d086af736a60e9eeb907d3b93b6e0e5",
        "execution": {
          "iopub.execute_input": "2023-04-27T06:57:02.578523Z",
          "iopub.status.busy": "2023-04-27T06:57:02.578054Z",
          "iopub.status.idle": "2023-04-27T06:57:02.599055Z",
          "shell.execute_reply": "2023-04-27T06:57:02.597621Z"
        },
        "papermill": {
          "duration": 0.040964,
          "end_time": "2023-04-27T06:57:02.603025",
          "exception": false,
          "start_time": "2023-04-27T06:57:02.562061",
          "status": "completed"
        },
        "tags": [],
        "id": "52498e32"
      },
      "outputs": [],
      "source": [
        "import numpy as np \n",
        "import pandas as pd \n",
        "import os"
      ]
    },
    {
      "cell_type": "code",
      "execution_count": 2,
      "id": "a08dfe70",
      "metadata": {
        "execution": {
          "iopub.execute_input": "2023-04-27T06:57:02.652030Z",
          "iopub.status.busy": "2023-04-27T06:57:02.651541Z",
          "iopub.status.idle": "2023-04-27T06:57:04.053929Z",
          "shell.execute_reply": "2023-04-27T06:57:04.052249Z"
        },
        "papermill": {
          "duration": 1.419062,
          "end_time": "2023-04-27T06:57:04.057250",
          "exception": false,
          "start_time": "2023-04-27T06:57:02.638188",
          "status": "completed"
        },
        "tags": [],
        "id": "a08dfe70"
      },
      "outputs": [],
      "source": [
        "import matplotlib.pyplot as plt\n",
        "import seaborn as sns\n",
        "import warnings \n",
        "warnings.filterwarnings(\"ignore\")"
      ]
    },
    {
      "cell_type": "code",
      "execution_count": 6,
      "id": "3b92f6c5",
      "metadata": {
        "execution": {
          "iopub.execute_input": "2023-04-27T06:57:04.083888Z",
          "iopub.status.busy": "2023-04-27T06:57:04.083398Z",
          "iopub.status.idle": "2023-04-27T06:57:04.102386Z",
          "shell.execute_reply": "2023-04-27T06:57:04.100742Z"
        },
        "papermill": {
          "duration": 0.035444,
          "end_time": "2023-04-27T06:57:04.105769",
          "exception": false,
          "start_time": "2023-04-27T06:57:04.070325",
          "status": "completed"
        },
        "tags": [],
        "id": "3b92f6c5"
      },
      "outputs": [],
      "source": [
        "df = pd.read_csv('/content/Salary_dataset.csv')"
      ]
    },
    {
      "cell_type": "code",
      "execution_count": 7,
      "id": "5341d42f",
      "metadata": {
        "execution": {
          "iopub.execute_input": "2023-04-27T06:57:04.131313Z",
          "iopub.status.busy": "2023-04-27T06:57:04.130837Z",
          "iopub.status.idle": "2023-04-27T06:57:04.168562Z",
          "shell.execute_reply": "2023-04-27T06:57:04.166946Z"
        },
        "papermill": {
          "duration": 0.054359,
          "end_time": "2023-04-27T06:57:04.171413",
          "exception": false,
          "start_time": "2023-04-27T06:57:04.117054",
          "status": "completed"
        },
        "tags": [],
        "colab": {
          "base_uri": "https://localhost:8080/",
          "height": 990
        },
        "id": "5341d42f",
        "outputId": "8005dd46-afe7-4940-d5bc-5090a73258a9"
      },
      "outputs": [
        {
          "output_type": "execute_result",
          "data": {
            "text/plain": [
              "    Unnamed: 0  YearsExperience    Salary\n",
              "0            0              1.2   39344.0\n",
              "1            1              1.4   46206.0\n",
              "2            2              1.6   37732.0\n",
              "3            3              2.1   43526.0\n",
              "4            4              2.3   39892.0\n",
              "5            5              3.0   56643.0\n",
              "6            6              3.1   60151.0\n",
              "7            7              3.3   54446.0\n",
              "8            8              3.3   64446.0\n",
              "9            9              3.8   57190.0\n",
              "10          10              4.0   63219.0\n",
              "11          11              4.1   55795.0\n",
              "12          12              4.1   56958.0\n",
              "13          13              4.2   57082.0\n",
              "14          14              4.6   61112.0\n",
              "15          15              5.0   67939.0\n",
              "16          16              5.2   66030.0\n",
              "17          17              5.4   83089.0\n",
              "18          18              6.0   81364.0\n",
              "19          19              6.1   93941.0\n",
              "20          20              6.9   91739.0\n",
              "21          21              7.2   98274.0\n",
              "22          22              8.0  101303.0\n",
              "23          23              8.3  113813.0\n",
              "24          24              8.8  109432.0\n",
              "25          25              9.1  105583.0\n",
              "26          26              9.6  116970.0\n",
              "27          27              9.7  112636.0\n",
              "28          28             10.4  122392.0\n",
              "29          29             10.6  121873.0"
            ],
            "text/html": [
              "\n",
              "  <div id=\"df-4fb9b1de-d7e8-496d-819b-1daadf75b15e\">\n",
              "    <div class=\"colab-df-container\">\n",
              "      <div>\n",
              "<style scoped>\n",
              "    .dataframe tbody tr th:only-of-type {\n",
              "        vertical-align: middle;\n",
              "    }\n",
              "\n",
              "    .dataframe tbody tr th {\n",
              "        vertical-align: top;\n",
              "    }\n",
              "\n",
              "    .dataframe thead th {\n",
              "        text-align: right;\n",
              "    }\n",
              "</style>\n",
              "<table border=\"1\" class=\"dataframe\">\n",
              "  <thead>\n",
              "    <tr style=\"text-align: right;\">\n",
              "      <th></th>\n",
              "      <th>Unnamed: 0</th>\n",
              "      <th>YearsExperience</th>\n",
              "      <th>Salary</th>\n",
              "    </tr>\n",
              "  </thead>\n",
              "  <tbody>\n",
              "    <tr>\n",
              "      <th>0</th>\n",
              "      <td>0</td>\n",
              "      <td>1.2</td>\n",
              "      <td>39344.0</td>\n",
              "    </tr>\n",
              "    <tr>\n",
              "      <th>1</th>\n",
              "      <td>1</td>\n",
              "      <td>1.4</td>\n",
              "      <td>46206.0</td>\n",
              "    </tr>\n",
              "    <tr>\n",
              "      <th>2</th>\n",
              "      <td>2</td>\n",
              "      <td>1.6</td>\n",
              "      <td>37732.0</td>\n",
              "    </tr>\n",
              "    <tr>\n",
              "      <th>3</th>\n",
              "      <td>3</td>\n",
              "      <td>2.1</td>\n",
              "      <td>43526.0</td>\n",
              "    </tr>\n",
              "    <tr>\n",
              "      <th>4</th>\n",
              "      <td>4</td>\n",
              "      <td>2.3</td>\n",
              "      <td>39892.0</td>\n",
              "    </tr>\n",
              "    <tr>\n",
              "      <th>5</th>\n",
              "      <td>5</td>\n",
              "      <td>3.0</td>\n",
              "      <td>56643.0</td>\n",
              "    </tr>\n",
              "    <tr>\n",
              "      <th>6</th>\n",
              "      <td>6</td>\n",
              "      <td>3.1</td>\n",
              "      <td>60151.0</td>\n",
              "    </tr>\n",
              "    <tr>\n",
              "      <th>7</th>\n",
              "      <td>7</td>\n",
              "      <td>3.3</td>\n",
              "      <td>54446.0</td>\n",
              "    </tr>\n",
              "    <tr>\n",
              "      <th>8</th>\n",
              "      <td>8</td>\n",
              "      <td>3.3</td>\n",
              "      <td>64446.0</td>\n",
              "    </tr>\n",
              "    <tr>\n",
              "      <th>9</th>\n",
              "      <td>9</td>\n",
              "      <td>3.8</td>\n",
              "      <td>57190.0</td>\n",
              "    </tr>\n",
              "    <tr>\n",
              "      <th>10</th>\n",
              "      <td>10</td>\n",
              "      <td>4.0</td>\n",
              "      <td>63219.0</td>\n",
              "    </tr>\n",
              "    <tr>\n",
              "      <th>11</th>\n",
              "      <td>11</td>\n",
              "      <td>4.1</td>\n",
              "      <td>55795.0</td>\n",
              "    </tr>\n",
              "    <tr>\n",
              "      <th>12</th>\n",
              "      <td>12</td>\n",
              "      <td>4.1</td>\n",
              "      <td>56958.0</td>\n",
              "    </tr>\n",
              "    <tr>\n",
              "      <th>13</th>\n",
              "      <td>13</td>\n",
              "      <td>4.2</td>\n",
              "      <td>57082.0</td>\n",
              "    </tr>\n",
              "    <tr>\n",
              "      <th>14</th>\n",
              "      <td>14</td>\n",
              "      <td>4.6</td>\n",
              "      <td>61112.0</td>\n",
              "    </tr>\n",
              "    <tr>\n",
              "      <th>15</th>\n",
              "      <td>15</td>\n",
              "      <td>5.0</td>\n",
              "      <td>67939.0</td>\n",
              "    </tr>\n",
              "    <tr>\n",
              "      <th>16</th>\n",
              "      <td>16</td>\n",
              "      <td>5.2</td>\n",
              "      <td>66030.0</td>\n",
              "    </tr>\n",
              "    <tr>\n",
              "      <th>17</th>\n",
              "      <td>17</td>\n",
              "      <td>5.4</td>\n",
              "      <td>83089.0</td>\n",
              "    </tr>\n",
              "    <tr>\n",
              "      <th>18</th>\n",
              "      <td>18</td>\n",
              "      <td>6.0</td>\n",
              "      <td>81364.0</td>\n",
              "    </tr>\n",
              "    <tr>\n",
              "      <th>19</th>\n",
              "      <td>19</td>\n",
              "      <td>6.1</td>\n",
              "      <td>93941.0</td>\n",
              "    </tr>\n",
              "    <tr>\n",
              "      <th>20</th>\n",
              "      <td>20</td>\n",
              "      <td>6.9</td>\n",
              "      <td>91739.0</td>\n",
              "    </tr>\n",
              "    <tr>\n",
              "      <th>21</th>\n",
              "      <td>21</td>\n",
              "      <td>7.2</td>\n",
              "      <td>98274.0</td>\n",
              "    </tr>\n",
              "    <tr>\n",
              "      <th>22</th>\n",
              "      <td>22</td>\n",
              "      <td>8.0</td>\n",
              "      <td>101303.0</td>\n",
              "    </tr>\n",
              "    <tr>\n",
              "      <th>23</th>\n",
              "      <td>23</td>\n",
              "      <td>8.3</td>\n",
              "      <td>113813.0</td>\n",
              "    </tr>\n",
              "    <tr>\n",
              "      <th>24</th>\n",
              "      <td>24</td>\n",
              "      <td>8.8</td>\n",
              "      <td>109432.0</td>\n",
              "    </tr>\n",
              "    <tr>\n",
              "      <th>25</th>\n",
              "      <td>25</td>\n",
              "      <td>9.1</td>\n",
              "      <td>105583.0</td>\n",
              "    </tr>\n",
              "    <tr>\n",
              "      <th>26</th>\n",
              "      <td>26</td>\n",
              "      <td>9.6</td>\n",
              "      <td>116970.0</td>\n",
              "    </tr>\n",
              "    <tr>\n",
              "      <th>27</th>\n",
              "      <td>27</td>\n",
              "      <td>9.7</td>\n",
              "      <td>112636.0</td>\n",
              "    </tr>\n",
              "    <tr>\n",
              "      <th>28</th>\n",
              "      <td>28</td>\n",
              "      <td>10.4</td>\n",
              "      <td>122392.0</td>\n",
              "    </tr>\n",
              "    <tr>\n",
              "      <th>29</th>\n",
              "      <td>29</td>\n",
              "      <td>10.6</td>\n",
              "      <td>121873.0</td>\n",
              "    </tr>\n",
              "  </tbody>\n",
              "</table>\n",
              "</div>\n",
              "      <button class=\"colab-df-convert\" onclick=\"convertToInteractive('df-4fb9b1de-d7e8-496d-819b-1daadf75b15e')\"\n",
              "              title=\"Convert this dataframe to an interactive table.\"\n",
              "              style=\"display:none;\">\n",
              "        \n",
              "  <svg xmlns=\"http://www.w3.org/2000/svg\" height=\"24px\"viewBox=\"0 0 24 24\"\n",
              "       width=\"24px\">\n",
              "    <path d=\"M0 0h24v24H0V0z\" fill=\"none\"/>\n",
              "    <path d=\"M18.56 5.44l.94 2.06.94-2.06 2.06-.94-2.06-.94-.94-2.06-.94 2.06-2.06.94zm-11 1L8.5 8.5l.94-2.06 2.06-.94-2.06-.94L8.5 2.5l-.94 2.06-2.06.94zm10 10l.94 2.06.94-2.06 2.06-.94-2.06-.94-.94-2.06-.94 2.06-2.06.94z\"/><path d=\"M17.41 7.96l-1.37-1.37c-.4-.4-.92-.59-1.43-.59-.52 0-1.04.2-1.43.59L10.3 9.45l-7.72 7.72c-.78.78-.78 2.05 0 2.83L4 21.41c.39.39.9.59 1.41.59.51 0 1.02-.2 1.41-.59l7.78-7.78 2.81-2.81c.8-.78.8-2.07 0-2.86zM5.41 20L4 18.59l7.72-7.72 1.47 1.35L5.41 20z\"/>\n",
              "  </svg>\n",
              "      </button>\n",
              "      \n",
              "  <style>\n",
              "    .colab-df-container {\n",
              "      display:flex;\n",
              "      flex-wrap:wrap;\n",
              "      gap: 12px;\n",
              "    }\n",
              "\n",
              "    .colab-df-convert {\n",
              "      background-color: #E8F0FE;\n",
              "      border: none;\n",
              "      border-radius: 50%;\n",
              "      cursor: pointer;\n",
              "      display: none;\n",
              "      fill: #1967D2;\n",
              "      height: 32px;\n",
              "      padding: 0 0 0 0;\n",
              "      width: 32px;\n",
              "    }\n",
              "\n",
              "    .colab-df-convert:hover {\n",
              "      background-color: #E2EBFA;\n",
              "      box-shadow: 0px 1px 2px rgba(60, 64, 67, 0.3), 0px 1px 3px 1px rgba(60, 64, 67, 0.15);\n",
              "      fill: #174EA6;\n",
              "    }\n",
              "\n",
              "    [theme=dark] .colab-df-convert {\n",
              "      background-color: #3B4455;\n",
              "      fill: #D2E3FC;\n",
              "    }\n",
              "\n",
              "    [theme=dark] .colab-df-convert:hover {\n",
              "      background-color: #434B5C;\n",
              "      box-shadow: 0px 1px 3px 1px rgba(0, 0, 0, 0.15);\n",
              "      filter: drop-shadow(0px 1px 2px rgba(0, 0, 0, 0.3));\n",
              "      fill: #FFFFFF;\n",
              "    }\n",
              "  </style>\n",
              "\n",
              "      <script>\n",
              "        const buttonEl =\n",
              "          document.querySelector('#df-4fb9b1de-d7e8-496d-819b-1daadf75b15e button.colab-df-convert');\n",
              "        buttonEl.style.display =\n",
              "          google.colab.kernel.accessAllowed ? 'block' : 'none';\n",
              "\n",
              "        async function convertToInteractive(key) {\n",
              "          const element = document.querySelector('#df-4fb9b1de-d7e8-496d-819b-1daadf75b15e');\n",
              "          const dataTable =\n",
              "            await google.colab.kernel.invokeFunction('convertToInteractive',\n",
              "                                                     [key], {});\n",
              "          if (!dataTable) return;\n",
              "\n",
              "          const docLinkHtml = 'Like what you see? Visit the ' +\n",
              "            '<a target=\"_blank\" href=https://colab.research.google.com/notebooks/data_table.ipynb>data table notebook</a>'\n",
              "            + ' to learn more about interactive tables.';\n",
              "          element.innerHTML = '';\n",
              "          dataTable['output_type'] = 'display_data';\n",
              "          await google.colab.output.renderOutput(dataTable, element);\n",
              "          const docLink = document.createElement('div');\n",
              "          docLink.innerHTML = docLinkHtml;\n",
              "          element.appendChild(docLink);\n",
              "        }\n",
              "      </script>\n",
              "    </div>\n",
              "  </div>\n",
              "  "
            ]
          },
          "metadata": {},
          "execution_count": 7
        }
      ],
      "source": [
        "df"
      ]
    },
    {
      "cell_type": "code",
      "execution_count": 8,
      "id": "7cb15449",
      "metadata": {
        "execution": {
          "iopub.execute_input": "2023-04-27T06:57:04.197550Z",
          "iopub.status.busy": "2023-04-27T06:57:04.197091Z",
          "iopub.status.idle": "2023-04-27T06:57:04.206318Z",
          "shell.execute_reply": "2023-04-27T06:57:04.204916Z"
        },
        "papermill": {
          "duration": 0.025946,
          "end_time": "2023-04-27T06:57:04.209180",
          "exception": false,
          "start_time": "2023-04-27T06:57:04.183234",
          "status": "completed"
        },
        "tags": [],
        "colab": {
          "base_uri": "https://localhost:8080/"
        },
        "id": "7cb15449",
        "outputId": "f3233e8a-7081-41a7-b812-839dc0056fa8"
      },
      "outputs": [
        {
          "output_type": "execute_result",
          "data": {
            "text/plain": [
              "(30, 3)"
            ]
          },
          "metadata": {},
          "execution_count": 8
        }
      ],
      "source": [
        "df.shape"
      ]
    },
    {
      "cell_type": "code",
      "execution_count": 9,
      "id": "1973dacf",
      "metadata": {
        "execution": {
          "iopub.execute_input": "2023-04-27T06:57:04.235144Z",
          "iopub.status.busy": "2023-04-27T06:57:04.234698Z",
          "iopub.status.idle": "2023-04-27T06:57:04.244285Z",
          "shell.execute_reply": "2023-04-27T06:57:04.242972Z"
        },
        "papermill": {
          "duration": 0.025935,
          "end_time": "2023-04-27T06:57:04.246985",
          "exception": false,
          "start_time": "2023-04-27T06:57:04.221050",
          "status": "completed"
        },
        "tags": [],
        "colab": {
          "base_uri": "https://localhost:8080/"
        },
        "id": "1973dacf",
        "outputId": "dad222a2-3ba3-479e-ba38-923330a6ca20"
      },
      "outputs": [
        {
          "output_type": "execute_result",
          "data": {
            "text/plain": [
              "Unnamed: 0           int64\n",
              "YearsExperience    float64\n",
              "Salary             float64\n",
              "dtype: object"
            ]
          },
          "metadata": {},
          "execution_count": 9
        }
      ],
      "source": [
        "df.dtypes"
      ]
    },
    {
      "cell_type": "code",
      "execution_count": 10,
      "id": "0cb82863",
      "metadata": {
        "execution": {
          "iopub.execute_input": "2023-04-27T06:57:04.274722Z",
          "iopub.status.busy": "2023-04-27T06:57:04.274164Z",
          "iopub.status.idle": "2023-04-27T06:57:04.283490Z",
          "shell.execute_reply": "2023-04-27T06:57:04.281590Z"
        },
        "papermill": {
          "duration": 0.027414,
          "end_time": "2023-04-27T06:57:04.286980",
          "exception": false,
          "start_time": "2023-04-27T06:57:04.259566",
          "status": "completed"
        },
        "tags": [],
        "colab": {
          "base_uri": "https://localhost:8080/"
        },
        "id": "0cb82863",
        "outputId": "3e52d6f2-60c0-44be-e8de-68474d2ed3ae"
      },
      "outputs": [
        {
          "output_type": "execute_result",
          "data": {
            "text/plain": [
              "Index(['Unnamed: 0', 'YearsExperience', 'Salary'], dtype='object')"
            ]
          },
          "metadata": {},
          "execution_count": 10
        }
      ],
      "source": [
        "df.columns"
      ]
    },
    {
      "cell_type": "code",
      "execution_count": 11,
      "id": "a4c81e2a",
      "metadata": {
        "execution": {
          "iopub.execute_input": "2023-04-27T06:57:04.314506Z",
          "iopub.status.busy": "2023-04-27T06:57:04.314072Z",
          "iopub.status.idle": "2023-04-27T06:57:04.341843Z",
          "shell.execute_reply": "2023-04-27T06:57:04.340024Z"
        },
        "papermill": {
          "duration": 0.045616,
          "end_time": "2023-04-27T06:57:04.345104",
          "exception": false,
          "start_time": "2023-04-27T06:57:04.299488",
          "status": "completed"
        },
        "tags": [],
        "colab": {
          "base_uri": "https://localhost:8080/"
        },
        "id": "a4c81e2a",
        "outputId": "ea905b4b-b17a-4a4a-8565-822adbae0946"
      },
      "outputs": [
        {
          "output_type": "stream",
          "name": "stdout",
          "text": [
            "<class 'pandas.core.frame.DataFrame'>\n",
            "RangeIndex: 30 entries, 0 to 29\n",
            "Data columns (total 3 columns):\n",
            " #   Column           Non-Null Count  Dtype  \n",
            "---  ------           --------------  -----  \n",
            " 0   Unnamed: 0       30 non-null     int64  \n",
            " 1   YearsExperience  30 non-null     float64\n",
            " 2   Salary           30 non-null     float64\n",
            "dtypes: float64(2), int64(1)\n",
            "memory usage: 848.0 bytes\n"
          ]
        }
      ],
      "source": [
        "df.info()"
      ]
    },
    {
      "cell_type": "code",
      "execution_count": 12,
      "id": "88bb1b9d",
      "metadata": {
        "execution": {
          "iopub.execute_input": "2023-04-27T06:57:04.372028Z",
          "iopub.status.busy": "2023-04-27T06:57:04.371585Z",
          "iopub.status.idle": "2023-04-27T06:57:04.381230Z",
          "shell.execute_reply": "2023-04-27T06:57:04.379831Z"
        },
        "papermill": {
          "duration": 0.027008,
          "end_time": "2023-04-27T06:57:04.384400",
          "exception": false,
          "start_time": "2023-04-27T06:57:04.357392",
          "status": "completed"
        },
        "tags": [],
        "colab": {
          "base_uri": "https://localhost:8080/"
        },
        "id": "88bb1b9d",
        "outputId": "396ec407-69ca-4fd7-fdf1-4115d2e64bc1"
      },
      "outputs": [
        {
          "output_type": "execute_result",
          "data": {
            "text/plain": [
              "Unnamed: 0         0\n",
              "YearsExperience    0\n",
              "Salary             0\n",
              "dtype: int64"
            ]
          },
          "metadata": {},
          "execution_count": 12
        }
      ],
      "source": [
        "df.isnull().sum()"
      ]
    },
    {
      "cell_type": "markdown",
      "id": "cc52ca78",
      "metadata": {
        "papermill": {
          "duration": 0.012873,
          "end_time": "2023-04-27T06:57:04.409641",
          "exception": false,
          "start_time": "2023-04-27T06:57:04.396768",
          "status": "completed"
        },
        "tags": [],
        "id": "cc52ca78"
      },
      "source": [
        "#### Here the Unnamed column is not needed, Hence lets drop that column"
      ]
    },
    {
      "cell_type": "code",
      "execution_count": 13,
      "id": "e617cb2a",
      "metadata": {
        "execution": {
          "iopub.execute_input": "2023-04-27T06:57:04.438308Z",
          "iopub.status.busy": "2023-04-27T06:57:04.436644Z",
          "iopub.status.idle": "2023-04-27T06:57:04.445360Z",
          "shell.execute_reply": "2023-04-27T06:57:04.443719Z"
        },
        "papermill": {
          "duration": 0.026069,
          "end_time": "2023-04-27T06:57:04.448266",
          "exception": false,
          "start_time": "2023-04-27T06:57:04.422197",
          "status": "completed"
        },
        "tags": [],
        "id": "e617cb2a"
      },
      "outputs": [],
      "source": [
        "df.drop(['Unnamed: 0'],axis=1,inplace=True)"
      ]
    },
    {
      "cell_type": "code",
      "execution_count": 14,
      "id": "b57a28d9",
      "metadata": {
        "execution": {
          "iopub.execute_input": "2023-04-27T06:57:04.475780Z",
          "iopub.status.busy": "2023-04-27T06:57:04.474306Z",
          "iopub.status.idle": "2023-04-27T06:57:04.493379Z",
          "shell.execute_reply": "2023-04-27T06:57:04.491931Z"
        },
        "papermill": {
          "duration": 0.035723,
          "end_time": "2023-04-27T06:57:04.496274",
          "exception": false,
          "start_time": "2023-04-27T06:57:04.460551",
          "status": "completed"
        },
        "tags": [],
        "colab": {
          "base_uri": "https://localhost:8080/",
          "height": 990
        },
        "id": "b57a28d9",
        "outputId": "995e0b32-c200-469a-888e-271db5a2b558"
      },
      "outputs": [
        {
          "output_type": "execute_result",
          "data": {
            "text/plain": [
              "    YearsExperience    Salary\n",
              "0               1.2   39344.0\n",
              "1               1.4   46206.0\n",
              "2               1.6   37732.0\n",
              "3               2.1   43526.0\n",
              "4               2.3   39892.0\n",
              "5               3.0   56643.0\n",
              "6               3.1   60151.0\n",
              "7               3.3   54446.0\n",
              "8               3.3   64446.0\n",
              "9               3.8   57190.0\n",
              "10              4.0   63219.0\n",
              "11              4.1   55795.0\n",
              "12              4.1   56958.0\n",
              "13              4.2   57082.0\n",
              "14              4.6   61112.0\n",
              "15              5.0   67939.0\n",
              "16              5.2   66030.0\n",
              "17              5.4   83089.0\n",
              "18              6.0   81364.0\n",
              "19              6.1   93941.0\n",
              "20              6.9   91739.0\n",
              "21              7.2   98274.0\n",
              "22              8.0  101303.0\n",
              "23              8.3  113813.0\n",
              "24              8.8  109432.0\n",
              "25              9.1  105583.0\n",
              "26              9.6  116970.0\n",
              "27              9.7  112636.0\n",
              "28             10.4  122392.0\n",
              "29             10.6  121873.0"
            ],
            "text/html": [
              "\n",
              "  <div id=\"df-95af6d41-1d7d-4528-a469-2692fb4ad25c\">\n",
              "    <div class=\"colab-df-container\">\n",
              "      <div>\n",
              "<style scoped>\n",
              "    .dataframe tbody tr th:only-of-type {\n",
              "        vertical-align: middle;\n",
              "    }\n",
              "\n",
              "    .dataframe tbody tr th {\n",
              "        vertical-align: top;\n",
              "    }\n",
              "\n",
              "    .dataframe thead th {\n",
              "        text-align: right;\n",
              "    }\n",
              "</style>\n",
              "<table border=\"1\" class=\"dataframe\">\n",
              "  <thead>\n",
              "    <tr style=\"text-align: right;\">\n",
              "      <th></th>\n",
              "      <th>YearsExperience</th>\n",
              "      <th>Salary</th>\n",
              "    </tr>\n",
              "  </thead>\n",
              "  <tbody>\n",
              "    <tr>\n",
              "      <th>0</th>\n",
              "      <td>1.2</td>\n",
              "      <td>39344.0</td>\n",
              "    </tr>\n",
              "    <tr>\n",
              "      <th>1</th>\n",
              "      <td>1.4</td>\n",
              "      <td>46206.0</td>\n",
              "    </tr>\n",
              "    <tr>\n",
              "      <th>2</th>\n",
              "      <td>1.6</td>\n",
              "      <td>37732.0</td>\n",
              "    </tr>\n",
              "    <tr>\n",
              "      <th>3</th>\n",
              "      <td>2.1</td>\n",
              "      <td>43526.0</td>\n",
              "    </tr>\n",
              "    <tr>\n",
              "      <th>4</th>\n",
              "      <td>2.3</td>\n",
              "      <td>39892.0</td>\n",
              "    </tr>\n",
              "    <tr>\n",
              "      <th>5</th>\n",
              "      <td>3.0</td>\n",
              "      <td>56643.0</td>\n",
              "    </tr>\n",
              "    <tr>\n",
              "      <th>6</th>\n",
              "      <td>3.1</td>\n",
              "      <td>60151.0</td>\n",
              "    </tr>\n",
              "    <tr>\n",
              "      <th>7</th>\n",
              "      <td>3.3</td>\n",
              "      <td>54446.0</td>\n",
              "    </tr>\n",
              "    <tr>\n",
              "      <th>8</th>\n",
              "      <td>3.3</td>\n",
              "      <td>64446.0</td>\n",
              "    </tr>\n",
              "    <tr>\n",
              "      <th>9</th>\n",
              "      <td>3.8</td>\n",
              "      <td>57190.0</td>\n",
              "    </tr>\n",
              "    <tr>\n",
              "      <th>10</th>\n",
              "      <td>4.0</td>\n",
              "      <td>63219.0</td>\n",
              "    </tr>\n",
              "    <tr>\n",
              "      <th>11</th>\n",
              "      <td>4.1</td>\n",
              "      <td>55795.0</td>\n",
              "    </tr>\n",
              "    <tr>\n",
              "      <th>12</th>\n",
              "      <td>4.1</td>\n",
              "      <td>56958.0</td>\n",
              "    </tr>\n",
              "    <tr>\n",
              "      <th>13</th>\n",
              "      <td>4.2</td>\n",
              "      <td>57082.0</td>\n",
              "    </tr>\n",
              "    <tr>\n",
              "      <th>14</th>\n",
              "      <td>4.6</td>\n",
              "      <td>61112.0</td>\n",
              "    </tr>\n",
              "    <tr>\n",
              "      <th>15</th>\n",
              "      <td>5.0</td>\n",
              "      <td>67939.0</td>\n",
              "    </tr>\n",
              "    <tr>\n",
              "      <th>16</th>\n",
              "      <td>5.2</td>\n",
              "      <td>66030.0</td>\n",
              "    </tr>\n",
              "    <tr>\n",
              "      <th>17</th>\n",
              "      <td>5.4</td>\n",
              "      <td>83089.0</td>\n",
              "    </tr>\n",
              "    <tr>\n",
              "      <th>18</th>\n",
              "      <td>6.0</td>\n",
              "      <td>81364.0</td>\n",
              "    </tr>\n",
              "    <tr>\n",
              "      <th>19</th>\n",
              "      <td>6.1</td>\n",
              "      <td>93941.0</td>\n",
              "    </tr>\n",
              "    <tr>\n",
              "      <th>20</th>\n",
              "      <td>6.9</td>\n",
              "      <td>91739.0</td>\n",
              "    </tr>\n",
              "    <tr>\n",
              "      <th>21</th>\n",
              "      <td>7.2</td>\n",
              "      <td>98274.0</td>\n",
              "    </tr>\n",
              "    <tr>\n",
              "      <th>22</th>\n",
              "      <td>8.0</td>\n",
              "      <td>101303.0</td>\n",
              "    </tr>\n",
              "    <tr>\n",
              "      <th>23</th>\n",
              "      <td>8.3</td>\n",
              "      <td>113813.0</td>\n",
              "    </tr>\n",
              "    <tr>\n",
              "      <th>24</th>\n",
              "      <td>8.8</td>\n",
              "      <td>109432.0</td>\n",
              "    </tr>\n",
              "    <tr>\n",
              "      <th>25</th>\n",
              "      <td>9.1</td>\n",
              "      <td>105583.0</td>\n",
              "    </tr>\n",
              "    <tr>\n",
              "      <th>26</th>\n",
              "      <td>9.6</td>\n",
              "      <td>116970.0</td>\n",
              "    </tr>\n",
              "    <tr>\n",
              "      <th>27</th>\n",
              "      <td>9.7</td>\n",
              "      <td>112636.0</td>\n",
              "    </tr>\n",
              "    <tr>\n",
              "      <th>28</th>\n",
              "      <td>10.4</td>\n",
              "      <td>122392.0</td>\n",
              "    </tr>\n",
              "    <tr>\n",
              "      <th>29</th>\n",
              "      <td>10.6</td>\n",
              "      <td>121873.0</td>\n",
              "    </tr>\n",
              "  </tbody>\n",
              "</table>\n",
              "</div>\n",
              "      <button class=\"colab-df-convert\" onclick=\"convertToInteractive('df-95af6d41-1d7d-4528-a469-2692fb4ad25c')\"\n",
              "              title=\"Convert this dataframe to an interactive table.\"\n",
              "              style=\"display:none;\">\n",
              "        \n",
              "  <svg xmlns=\"http://www.w3.org/2000/svg\" height=\"24px\"viewBox=\"0 0 24 24\"\n",
              "       width=\"24px\">\n",
              "    <path d=\"M0 0h24v24H0V0z\" fill=\"none\"/>\n",
              "    <path d=\"M18.56 5.44l.94 2.06.94-2.06 2.06-.94-2.06-.94-.94-2.06-.94 2.06-2.06.94zm-11 1L8.5 8.5l.94-2.06 2.06-.94-2.06-.94L8.5 2.5l-.94 2.06-2.06.94zm10 10l.94 2.06.94-2.06 2.06-.94-2.06-.94-.94-2.06-.94 2.06-2.06.94z\"/><path d=\"M17.41 7.96l-1.37-1.37c-.4-.4-.92-.59-1.43-.59-.52 0-1.04.2-1.43.59L10.3 9.45l-7.72 7.72c-.78.78-.78 2.05 0 2.83L4 21.41c.39.39.9.59 1.41.59.51 0 1.02-.2 1.41-.59l7.78-7.78 2.81-2.81c.8-.78.8-2.07 0-2.86zM5.41 20L4 18.59l7.72-7.72 1.47 1.35L5.41 20z\"/>\n",
              "  </svg>\n",
              "      </button>\n",
              "      \n",
              "  <style>\n",
              "    .colab-df-container {\n",
              "      display:flex;\n",
              "      flex-wrap:wrap;\n",
              "      gap: 12px;\n",
              "    }\n",
              "\n",
              "    .colab-df-convert {\n",
              "      background-color: #E8F0FE;\n",
              "      border: none;\n",
              "      border-radius: 50%;\n",
              "      cursor: pointer;\n",
              "      display: none;\n",
              "      fill: #1967D2;\n",
              "      height: 32px;\n",
              "      padding: 0 0 0 0;\n",
              "      width: 32px;\n",
              "    }\n",
              "\n",
              "    .colab-df-convert:hover {\n",
              "      background-color: #E2EBFA;\n",
              "      box-shadow: 0px 1px 2px rgba(60, 64, 67, 0.3), 0px 1px 3px 1px rgba(60, 64, 67, 0.15);\n",
              "      fill: #174EA6;\n",
              "    }\n",
              "\n",
              "    [theme=dark] .colab-df-convert {\n",
              "      background-color: #3B4455;\n",
              "      fill: #D2E3FC;\n",
              "    }\n",
              "\n",
              "    [theme=dark] .colab-df-convert:hover {\n",
              "      background-color: #434B5C;\n",
              "      box-shadow: 0px 1px 3px 1px rgba(0, 0, 0, 0.15);\n",
              "      filter: drop-shadow(0px 1px 2px rgba(0, 0, 0, 0.3));\n",
              "      fill: #FFFFFF;\n",
              "    }\n",
              "  </style>\n",
              "\n",
              "      <script>\n",
              "        const buttonEl =\n",
              "          document.querySelector('#df-95af6d41-1d7d-4528-a469-2692fb4ad25c button.colab-df-convert');\n",
              "        buttonEl.style.display =\n",
              "          google.colab.kernel.accessAllowed ? 'block' : 'none';\n",
              "\n",
              "        async function convertToInteractive(key) {\n",
              "          const element = document.querySelector('#df-95af6d41-1d7d-4528-a469-2692fb4ad25c');\n",
              "          const dataTable =\n",
              "            await google.colab.kernel.invokeFunction('convertToInteractive',\n",
              "                                                     [key], {});\n",
              "          if (!dataTable) return;\n",
              "\n",
              "          const docLinkHtml = 'Like what you see? Visit the ' +\n",
              "            '<a target=\"_blank\" href=https://colab.research.google.com/notebooks/data_table.ipynb>data table notebook</a>'\n",
              "            + ' to learn more about interactive tables.';\n",
              "          element.innerHTML = '';\n",
              "          dataTable['output_type'] = 'display_data';\n",
              "          await google.colab.output.renderOutput(dataTable, element);\n",
              "          const docLink = document.createElement('div');\n",
              "          docLink.innerHTML = docLinkHtml;\n",
              "          element.appendChild(docLink);\n",
              "        }\n",
              "      </script>\n",
              "    </div>\n",
              "  </div>\n",
              "  "
            ]
          },
          "metadata": {},
          "execution_count": 14
        }
      ],
      "source": [
        "df"
      ]
    },
    {
      "cell_type": "code",
      "execution_count": 15,
      "id": "d6cbcc33",
      "metadata": {
        "execution": {
          "iopub.execute_input": "2023-04-27T06:57:04.524916Z",
          "iopub.status.busy": "2023-04-27T06:57:04.523475Z",
          "iopub.status.idle": "2023-04-27T06:57:04.547261Z",
          "shell.execute_reply": "2023-04-27T06:57:04.546026Z"
        },
        "papermill": {
          "duration": 0.041214,
          "end_time": "2023-04-27T06:57:04.550053",
          "exception": false,
          "start_time": "2023-04-27T06:57:04.508839",
          "status": "completed"
        },
        "tags": [],
        "colab": {
          "base_uri": "https://localhost:8080/",
          "height": 300
        },
        "id": "d6cbcc33",
        "outputId": "d1df11d1-9552-46f5-9832-ac2fa765a7fd"
      },
      "outputs": [
        {
          "output_type": "execute_result",
          "data": {
            "text/plain": [
              "       YearsExperience         Salary\n",
              "count        30.000000      30.000000\n",
              "mean          5.413333   76004.000000\n",
              "std           2.837888   27414.429785\n",
              "min           1.200000   37732.000000\n",
              "25%           3.300000   56721.750000\n",
              "50%           4.800000   65238.000000\n",
              "75%           7.800000  100545.750000\n",
              "max          10.600000  122392.000000"
            ],
            "text/html": [
              "\n",
              "  <div id=\"df-27a20d1a-f4a6-4b90-9d23-d18eccbcd19a\">\n",
              "    <div class=\"colab-df-container\">\n",
              "      <div>\n",
              "<style scoped>\n",
              "    .dataframe tbody tr th:only-of-type {\n",
              "        vertical-align: middle;\n",
              "    }\n",
              "\n",
              "    .dataframe tbody tr th {\n",
              "        vertical-align: top;\n",
              "    }\n",
              "\n",
              "    .dataframe thead th {\n",
              "        text-align: right;\n",
              "    }\n",
              "</style>\n",
              "<table border=\"1\" class=\"dataframe\">\n",
              "  <thead>\n",
              "    <tr style=\"text-align: right;\">\n",
              "      <th></th>\n",
              "      <th>YearsExperience</th>\n",
              "      <th>Salary</th>\n",
              "    </tr>\n",
              "  </thead>\n",
              "  <tbody>\n",
              "    <tr>\n",
              "      <th>count</th>\n",
              "      <td>30.000000</td>\n",
              "      <td>30.000000</td>\n",
              "    </tr>\n",
              "    <tr>\n",
              "      <th>mean</th>\n",
              "      <td>5.413333</td>\n",
              "      <td>76004.000000</td>\n",
              "    </tr>\n",
              "    <tr>\n",
              "      <th>std</th>\n",
              "      <td>2.837888</td>\n",
              "      <td>27414.429785</td>\n",
              "    </tr>\n",
              "    <tr>\n",
              "      <th>min</th>\n",
              "      <td>1.200000</td>\n",
              "      <td>37732.000000</td>\n",
              "    </tr>\n",
              "    <tr>\n",
              "      <th>25%</th>\n",
              "      <td>3.300000</td>\n",
              "      <td>56721.750000</td>\n",
              "    </tr>\n",
              "    <tr>\n",
              "      <th>50%</th>\n",
              "      <td>4.800000</td>\n",
              "      <td>65238.000000</td>\n",
              "    </tr>\n",
              "    <tr>\n",
              "      <th>75%</th>\n",
              "      <td>7.800000</td>\n",
              "      <td>100545.750000</td>\n",
              "    </tr>\n",
              "    <tr>\n",
              "      <th>max</th>\n",
              "      <td>10.600000</td>\n",
              "      <td>122392.000000</td>\n",
              "    </tr>\n",
              "  </tbody>\n",
              "</table>\n",
              "</div>\n",
              "      <button class=\"colab-df-convert\" onclick=\"convertToInteractive('df-27a20d1a-f4a6-4b90-9d23-d18eccbcd19a')\"\n",
              "              title=\"Convert this dataframe to an interactive table.\"\n",
              "              style=\"display:none;\">\n",
              "        \n",
              "  <svg xmlns=\"http://www.w3.org/2000/svg\" height=\"24px\"viewBox=\"0 0 24 24\"\n",
              "       width=\"24px\">\n",
              "    <path d=\"M0 0h24v24H0V0z\" fill=\"none\"/>\n",
              "    <path d=\"M18.56 5.44l.94 2.06.94-2.06 2.06-.94-2.06-.94-.94-2.06-.94 2.06-2.06.94zm-11 1L8.5 8.5l.94-2.06 2.06-.94-2.06-.94L8.5 2.5l-.94 2.06-2.06.94zm10 10l.94 2.06.94-2.06 2.06-.94-2.06-.94-.94-2.06-.94 2.06-2.06.94z\"/><path d=\"M17.41 7.96l-1.37-1.37c-.4-.4-.92-.59-1.43-.59-.52 0-1.04.2-1.43.59L10.3 9.45l-7.72 7.72c-.78.78-.78 2.05 0 2.83L4 21.41c.39.39.9.59 1.41.59.51 0 1.02-.2 1.41-.59l7.78-7.78 2.81-2.81c.8-.78.8-2.07 0-2.86zM5.41 20L4 18.59l7.72-7.72 1.47 1.35L5.41 20z\"/>\n",
              "  </svg>\n",
              "      </button>\n",
              "      \n",
              "  <style>\n",
              "    .colab-df-container {\n",
              "      display:flex;\n",
              "      flex-wrap:wrap;\n",
              "      gap: 12px;\n",
              "    }\n",
              "\n",
              "    .colab-df-convert {\n",
              "      background-color: #E8F0FE;\n",
              "      border: none;\n",
              "      border-radius: 50%;\n",
              "      cursor: pointer;\n",
              "      display: none;\n",
              "      fill: #1967D2;\n",
              "      height: 32px;\n",
              "      padding: 0 0 0 0;\n",
              "      width: 32px;\n",
              "    }\n",
              "\n",
              "    .colab-df-convert:hover {\n",
              "      background-color: #E2EBFA;\n",
              "      box-shadow: 0px 1px 2px rgba(60, 64, 67, 0.3), 0px 1px 3px 1px rgba(60, 64, 67, 0.15);\n",
              "      fill: #174EA6;\n",
              "    }\n",
              "\n",
              "    [theme=dark] .colab-df-convert {\n",
              "      background-color: #3B4455;\n",
              "      fill: #D2E3FC;\n",
              "    }\n",
              "\n",
              "    [theme=dark] .colab-df-convert:hover {\n",
              "      background-color: #434B5C;\n",
              "      box-shadow: 0px 1px 3px 1px rgba(0, 0, 0, 0.15);\n",
              "      filter: drop-shadow(0px 1px 2px rgba(0, 0, 0, 0.3));\n",
              "      fill: #FFFFFF;\n",
              "    }\n",
              "  </style>\n",
              "\n",
              "      <script>\n",
              "        const buttonEl =\n",
              "          document.querySelector('#df-27a20d1a-f4a6-4b90-9d23-d18eccbcd19a button.colab-df-convert');\n",
              "        buttonEl.style.display =\n",
              "          google.colab.kernel.accessAllowed ? 'block' : 'none';\n",
              "\n",
              "        async function convertToInteractive(key) {\n",
              "          const element = document.querySelector('#df-27a20d1a-f4a6-4b90-9d23-d18eccbcd19a');\n",
              "          const dataTable =\n",
              "            await google.colab.kernel.invokeFunction('convertToInteractive',\n",
              "                                                     [key], {});\n",
              "          if (!dataTable) return;\n",
              "\n",
              "          const docLinkHtml = 'Like what you see? Visit the ' +\n",
              "            '<a target=\"_blank\" href=https://colab.research.google.com/notebooks/data_table.ipynb>data table notebook</a>'\n",
              "            + ' to learn more about interactive tables.';\n",
              "          element.innerHTML = '';\n",
              "          dataTable['output_type'] = 'display_data';\n",
              "          await google.colab.output.renderOutput(dataTable, element);\n",
              "          const docLink = document.createElement('div');\n",
              "          docLink.innerHTML = docLinkHtml;\n",
              "          element.appendChild(docLink);\n",
              "        }\n",
              "      </script>\n",
              "    </div>\n",
              "  </div>\n",
              "  "
            ]
          },
          "metadata": {},
          "execution_count": 15
        }
      ],
      "source": [
        "df.describe()"
      ]
    },
    {
      "cell_type": "code",
      "execution_count": 16,
      "id": "b7efe524",
      "metadata": {
        "execution": {
          "iopub.execute_input": "2023-04-27T06:57:04.580683Z",
          "iopub.status.busy": "2023-04-27T06:57:04.580152Z",
          "iopub.status.idle": "2023-04-27T06:57:04.593134Z",
          "shell.execute_reply": "2023-04-27T06:57:04.591635Z"
        },
        "papermill": {
          "duration": 0.032725,
          "end_time": "2023-04-27T06:57:04.595994",
          "exception": false,
          "start_time": "2023-04-27T06:57:04.563269",
          "status": "completed"
        },
        "tags": [],
        "colab": {
          "base_uri": "https://localhost:8080/",
          "height": 206
        },
        "id": "b7efe524",
        "outputId": "31a88224-9089-4c6b-c6d9-850ff73814a3"
      },
      "outputs": [
        {
          "output_type": "execute_result",
          "data": {
            "text/plain": [
              "   YearsExperience   Salary\n",
              "0              1.2  39344.0\n",
              "1              1.4  46206.0\n",
              "2              1.6  37732.0\n",
              "3              2.1  43526.0\n",
              "4              2.3  39892.0"
            ],
            "text/html": [
              "\n",
              "  <div id=\"df-d7ced85f-74f0-41a9-b2fa-f567e5a898a4\">\n",
              "    <div class=\"colab-df-container\">\n",
              "      <div>\n",
              "<style scoped>\n",
              "    .dataframe tbody tr th:only-of-type {\n",
              "        vertical-align: middle;\n",
              "    }\n",
              "\n",
              "    .dataframe tbody tr th {\n",
              "        vertical-align: top;\n",
              "    }\n",
              "\n",
              "    .dataframe thead th {\n",
              "        text-align: right;\n",
              "    }\n",
              "</style>\n",
              "<table border=\"1\" class=\"dataframe\">\n",
              "  <thead>\n",
              "    <tr style=\"text-align: right;\">\n",
              "      <th></th>\n",
              "      <th>YearsExperience</th>\n",
              "      <th>Salary</th>\n",
              "    </tr>\n",
              "  </thead>\n",
              "  <tbody>\n",
              "    <tr>\n",
              "      <th>0</th>\n",
              "      <td>1.2</td>\n",
              "      <td>39344.0</td>\n",
              "    </tr>\n",
              "    <tr>\n",
              "      <th>1</th>\n",
              "      <td>1.4</td>\n",
              "      <td>46206.0</td>\n",
              "    </tr>\n",
              "    <tr>\n",
              "      <th>2</th>\n",
              "      <td>1.6</td>\n",
              "      <td>37732.0</td>\n",
              "    </tr>\n",
              "    <tr>\n",
              "      <th>3</th>\n",
              "      <td>2.1</td>\n",
              "      <td>43526.0</td>\n",
              "    </tr>\n",
              "    <tr>\n",
              "      <th>4</th>\n",
              "      <td>2.3</td>\n",
              "      <td>39892.0</td>\n",
              "    </tr>\n",
              "  </tbody>\n",
              "</table>\n",
              "</div>\n",
              "      <button class=\"colab-df-convert\" onclick=\"convertToInteractive('df-d7ced85f-74f0-41a9-b2fa-f567e5a898a4')\"\n",
              "              title=\"Convert this dataframe to an interactive table.\"\n",
              "              style=\"display:none;\">\n",
              "        \n",
              "  <svg xmlns=\"http://www.w3.org/2000/svg\" height=\"24px\"viewBox=\"0 0 24 24\"\n",
              "       width=\"24px\">\n",
              "    <path d=\"M0 0h24v24H0V0z\" fill=\"none\"/>\n",
              "    <path d=\"M18.56 5.44l.94 2.06.94-2.06 2.06-.94-2.06-.94-.94-2.06-.94 2.06-2.06.94zm-11 1L8.5 8.5l.94-2.06 2.06-.94-2.06-.94L8.5 2.5l-.94 2.06-2.06.94zm10 10l.94 2.06.94-2.06 2.06-.94-2.06-.94-.94-2.06-.94 2.06-2.06.94z\"/><path d=\"M17.41 7.96l-1.37-1.37c-.4-.4-.92-.59-1.43-.59-.52 0-1.04.2-1.43.59L10.3 9.45l-7.72 7.72c-.78.78-.78 2.05 0 2.83L4 21.41c.39.39.9.59 1.41.59.51 0 1.02-.2 1.41-.59l7.78-7.78 2.81-2.81c.8-.78.8-2.07 0-2.86zM5.41 20L4 18.59l7.72-7.72 1.47 1.35L5.41 20z\"/>\n",
              "  </svg>\n",
              "      </button>\n",
              "      \n",
              "  <style>\n",
              "    .colab-df-container {\n",
              "      display:flex;\n",
              "      flex-wrap:wrap;\n",
              "      gap: 12px;\n",
              "    }\n",
              "\n",
              "    .colab-df-convert {\n",
              "      background-color: #E8F0FE;\n",
              "      border: none;\n",
              "      border-radius: 50%;\n",
              "      cursor: pointer;\n",
              "      display: none;\n",
              "      fill: #1967D2;\n",
              "      height: 32px;\n",
              "      padding: 0 0 0 0;\n",
              "      width: 32px;\n",
              "    }\n",
              "\n",
              "    .colab-df-convert:hover {\n",
              "      background-color: #E2EBFA;\n",
              "      box-shadow: 0px 1px 2px rgba(60, 64, 67, 0.3), 0px 1px 3px 1px rgba(60, 64, 67, 0.15);\n",
              "      fill: #174EA6;\n",
              "    }\n",
              "\n",
              "    [theme=dark] .colab-df-convert {\n",
              "      background-color: #3B4455;\n",
              "      fill: #D2E3FC;\n",
              "    }\n",
              "\n",
              "    [theme=dark] .colab-df-convert:hover {\n",
              "      background-color: #434B5C;\n",
              "      box-shadow: 0px 1px 3px 1px rgba(0, 0, 0, 0.15);\n",
              "      filter: drop-shadow(0px 1px 2px rgba(0, 0, 0, 0.3));\n",
              "      fill: #FFFFFF;\n",
              "    }\n",
              "  </style>\n",
              "\n",
              "      <script>\n",
              "        const buttonEl =\n",
              "          document.querySelector('#df-d7ced85f-74f0-41a9-b2fa-f567e5a898a4 button.colab-df-convert');\n",
              "        buttonEl.style.display =\n",
              "          google.colab.kernel.accessAllowed ? 'block' : 'none';\n",
              "\n",
              "        async function convertToInteractive(key) {\n",
              "          const element = document.querySelector('#df-d7ced85f-74f0-41a9-b2fa-f567e5a898a4');\n",
              "          const dataTable =\n",
              "            await google.colab.kernel.invokeFunction('convertToInteractive',\n",
              "                                                     [key], {});\n",
              "          if (!dataTable) return;\n",
              "\n",
              "          const docLinkHtml = 'Like what you see? Visit the ' +\n",
              "            '<a target=\"_blank\" href=https://colab.research.google.com/notebooks/data_table.ipynb>data table notebook</a>'\n",
              "            + ' to learn more about interactive tables.';\n",
              "          element.innerHTML = '';\n",
              "          dataTable['output_type'] = 'display_data';\n",
              "          await google.colab.output.renderOutput(dataTable, element);\n",
              "          const docLink = document.createElement('div');\n",
              "          docLink.innerHTML = docLinkHtml;\n",
              "          element.appendChild(docLink);\n",
              "        }\n",
              "      </script>\n",
              "    </div>\n",
              "  </div>\n",
              "  "
            ]
          },
          "metadata": {},
          "execution_count": 16
        }
      ],
      "source": [
        "df.head()"
      ]
    },
    {
      "cell_type": "code",
      "execution_count": 17,
      "id": "43fbedb5",
      "metadata": {
        "execution": {
          "iopub.execute_input": "2023-04-27T06:57:04.625229Z",
          "iopub.status.busy": "2023-04-27T06:57:04.624712Z",
          "iopub.status.idle": "2023-04-27T06:57:04.637073Z",
          "shell.execute_reply": "2023-04-27T06:57:04.635868Z"
        },
        "papermill": {
          "duration": 0.029925,
          "end_time": "2023-04-27T06:57:04.639754",
          "exception": false,
          "start_time": "2023-04-27T06:57:04.609829",
          "status": "completed"
        },
        "tags": [],
        "colab": {
          "base_uri": "https://localhost:8080/",
          "height": 206
        },
        "id": "43fbedb5",
        "outputId": "74ec162f-6084-4c20-d35e-a9d4a394da67"
      },
      "outputs": [
        {
          "output_type": "execute_result",
          "data": {
            "text/plain": [
              "    YearsExperience    Salary\n",
              "25              9.1  105583.0\n",
              "26              9.6  116970.0\n",
              "27              9.7  112636.0\n",
              "28             10.4  122392.0\n",
              "29             10.6  121873.0"
            ],
            "text/html": [
              "\n",
              "  <div id=\"df-ded4b7a3-03e9-47c9-9253-767aafbb0950\">\n",
              "    <div class=\"colab-df-container\">\n",
              "      <div>\n",
              "<style scoped>\n",
              "    .dataframe tbody tr th:only-of-type {\n",
              "        vertical-align: middle;\n",
              "    }\n",
              "\n",
              "    .dataframe tbody tr th {\n",
              "        vertical-align: top;\n",
              "    }\n",
              "\n",
              "    .dataframe thead th {\n",
              "        text-align: right;\n",
              "    }\n",
              "</style>\n",
              "<table border=\"1\" class=\"dataframe\">\n",
              "  <thead>\n",
              "    <tr style=\"text-align: right;\">\n",
              "      <th></th>\n",
              "      <th>YearsExperience</th>\n",
              "      <th>Salary</th>\n",
              "    </tr>\n",
              "  </thead>\n",
              "  <tbody>\n",
              "    <tr>\n",
              "      <th>25</th>\n",
              "      <td>9.1</td>\n",
              "      <td>105583.0</td>\n",
              "    </tr>\n",
              "    <tr>\n",
              "      <th>26</th>\n",
              "      <td>9.6</td>\n",
              "      <td>116970.0</td>\n",
              "    </tr>\n",
              "    <tr>\n",
              "      <th>27</th>\n",
              "      <td>9.7</td>\n",
              "      <td>112636.0</td>\n",
              "    </tr>\n",
              "    <tr>\n",
              "      <th>28</th>\n",
              "      <td>10.4</td>\n",
              "      <td>122392.0</td>\n",
              "    </tr>\n",
              "    <tr>\n",
              "      <th>29</th>\n",
              "      <td>10.6</td>\n",
              "      <td>121873.0</td>\n",
              "    </tr>\n",
              "  </tbody>\n",
              "</table>\n",
              "</div>\n",
              "      <button class=\"colab-df-convert\" onclick=\"convertToInteractive('df-ded4b7a3-03e9-47c9-9253-767aafbb0950')\"\n",
              "              title=\"Convert this dataframe to an interactive table.\"\n",
              "              style=\"display:none;\">\n",
              "        \n",
              "  <svg xmlns=\"http://www.w3.org/2000/svg\" height=\"24px\"viewBox=\"0 0 24 24\"\n",
              "       width=\"24px\">\n",
              "    <path d=\"M0 0h24v24H0V0z\" fill=\"none\"/>\n",
              "    <path d=\"M18.56 5.44l.94 2.06.94-2.06 2.06-.94-2.06-.94-.94-2.06-.94 2.06-2.06.94zm-11 1L8.5 8.5l.94-2.06 2.06-.94-2.06-.94L8.5 2.5l-.94 2.06-2.06.94zm10 10l.94 2.06.94-2.06 2.06-.94-2.06-.94-.94-2.06-.94 2.06-2.06.94z\"/><path d=\"M17.41 7.96l-1.37-1.37c-.4-.4-.92-.59-1.43-.59-.52 0-1.04.2-1.43.59L10.3 9.45l-7.72 7.72c-.78.78-.78 2.05 0 2.83L4 21.41c.39.39.9.59 1.41.59.51 0 1.02-.2 1.41-.59l7.78-7.78 2.81-2.81c.8-.78.8-2.07 0-2.86zM5.41 20L4 18.59l7.72-7.72 1.47 1.35L5.41 20z\"/>\n",
              "  </svg>\n",
              "      </button>\n",
              "      \n",
              "  <style>\n",
              "    .colab-df-container {\n",
              "      display:flex;\n",
              "      flex-wrap:wrap;\n",
              "      gap: 12px;\n",
              "    }\n",
              "\n",
              "    .colab-df-convert {\n",
              "      background-color: #E8F0FE;\n",
              "      border: none;\n",
              "      border-radius: 50%;\n",
              "      cursor: pointer;\n",
              "      display: none;\n",
              "      fill: #1967D2;\n",
              "      height: 32px;\n",
              "      padding: 0 0 0 0;\n",
              "      width: 32px;\n",
              "    }\n",
              "\n",
              "    .colab-df-convert:hover {\n",
              "      background-color: #E2EBFA;\n",
              "      box-shadow: 0px 1px 2px rgba(60, 64, 67, 0.3), 0px 1px 3px 1px rgba(60, 64, 67, 0.15);\n",
              "      fill: #174EA6;\n",
              "    }\n",
              "\n",
              "    [theme=dark] .colab-df-convert {\n",
              "      background-color: #3B4455;\n",
              "      fill: #D2E3FC;\n",
              "    }\n",
              "\n",
              "    [theme=dark] .colab-df-convert:hover {\n",
              "      background-color: #434B5C;\n",
              "      box-shadow: 0px 1px 3px 1px rgba(0, 0, 0, 0.15);\n",
              "      filter: drop-shadow(0px 1px 2px rgba(0, 0, 0, 0.3));\n",
              "      fill: #FFFFFF;\n",
              "    }\n",
              "  </style>\n",
              "\n",
              "      <script>\n",
              "        const buttonEl =\n",
              "          document.querySelector('#df-ded4b7a3-03e9-47c9-9253-767aafbb0950 button.colab-df-convert');\n",
              "        buttonEl.style.display =\n",
              "          google.colab.kernel.accessAllowed ? 'block' : 'none';\n",
              "\n",
              "        async function convertToInteractive(key) {\n",
              "          const element = document.querySelector('#df-ded4b7a3-03e9-47c9-9253-767aafbb0950');\n",
              "          const dataTable =\n",
              "            await google.colab.kernel.invokeFunction('convertToInteractive',\n",
              "                                                     [key], {});\n",
              "          if (!dataTable) return;\n",
              "\n",
              "          const docLinkHtml = 'Like what you see? Visit the ' +\n",
              "            '<a target=\"_blank\" href=https://colab.research.google.com/notebooks/data_table.ipynb>data table notebook</a>'\n",
              "            + ' to learn more about interactive tables.';\n",
              "          element.innerHTML = '';\n",
              "          dataTable['output_type'] = 'display_data';\n",
              "          await google.colab.output.renderOutput(dataTable, element);\n",
              "          const docLink = document.createElement('div');\n",
              "          docLink.innerHTML = docLinkHtml;\n",
              "          element.appendChild(docLink);\n",
              "        }\n",
              "      </script>\n",
              "    </div>\n",
              "  </div>\n",
              "  "
            ]
          },
          "metadata": {},
          "execution_count": 17
        }
      ],
      "source": [
        "df.tail()"
      ]
    },
    {
      "cell_type": "markdown",
      "id": "ae7e4665",
      "metadata": {
        "execution": {
          "iopub.execute_input": "2023-04-27T05:05:00.334002Z",
          "iopub.status.busy": "2023-04-27T05:05:00.332666Z",
          "iopub.status.idle": "2023-04-27T05:05:00.338853Z",
          "shell.execute_reply": "2023-04-27T05:05:00.337604Z",
          "shell.execute_reply.started": "2023-04-27T05:05:00.333941Z"
        },
        "papermill": {
          "duration": 0.013209,
          "end_time": "2023-04-27T06:57:04.666985",
          "exception": false,
          "start_time": "2023-04-27T06:57:04.653776",
          "status": "completed"
        },
        "tags": [],
        "id": "ae7e4665"
      },
      "source": [
        "#### Now lets find the corelation between the two variables using a heatmap"
      ]
    },
    {
      "cell_type": "code",
      "execution_count": 18,
      "id": "085d55a0",
      "metadata": {
        "execution": {
          "iopub.execute_input": "2023-04-27T06:57:04.695240Z",
          "iopub.status.busy": "2023-04-27T06:57:04.694758Z",
          "iopub.status.idle": "2023-04-27T06:57:05.009298Z",
          "shell.execute_reply": "2023-04-27T06:57:05.007894Z"
        },
        "papermill": {
          "duration": 0.332435,
          "end_time": "2023-04-27T06:57:05.012346",
          "exception": false,
          "start_time": "2023-04-27T06:57:04.679911",
          "status": "completed"
        },
        "tags": [],
        "colab": {
          "base_uri": "https://localhost:8080/",
          "height": 435
        },
        "id": "085d55a0",
        "outputId": "04b1465e-3a48-4a7a-b44c-3c720894e288"
      },
      "outputs": [
        {
          "output_type": "display_data",
          "data": {
            "text/plain": [
              "<Figure size 640x480 with 2 Axes>"
            ],
            "image/png": "[encoded data removed]"
          },
          "metadata": {}
        }
      ],
      "source": [
        "\n",
        "sns.heatmap(df.corr(),annot=True)\n",
        "plt.show()"
      ]
    },
    {
      "cell_type": "markdown",
      "id": "2bd4ce44",
      "metadata": {
        "execution": {
          "iopub.execute_input": "2023-04-27T05:06:15.028953Z",
          "iopub.status.busy": "2023-04-27T05:06:15.028437Z",
          "iopub.status.idle": "2023-04-27T05:06:15.034972Z",
          "shell.execute_reply": "2023-04-27T05:06:15.033200Z",
          "shell.execute_reply.started": "2023-04-27T05:06:15.028907Z"
        },
        "papermill": {
          "duration": 0.013191,
          "end_time": "2023-04-27T06:57:05.039978",
          "exception": false,
          "start_time": "2023-04-27T06:57:05.026787",
          "status": "completed"
        },
        "tags": [],
        "id": "2bd4ce44"
      },
      "source": [
        "\n",
        "#### Now lets find the linear relationship between the two using a scatter plot"
      ]
    },
    {
      "cell_type": "code",
      "execution_count": 19,
      "id": "0d39408d",
      "metadata": {
        "execution": {
          "iopub.execute_input": "2023-04-27T06:57:05.070221Z",
          "iopub.status.busy": "2023-04-27T06:57:05.069735Z",
          "iopub.status.idle": "2023-04-27T06:57:05.281681Z",
          "shell.execute_reply": "2023-04-27T06:57:05.280123Z"
        },
        "papermill": {
          "duration": 0.230302,
          "end_time": "2023-04-27T06:57:05.284648",
          "exception": false,
          "start_time": "2023-04-27T06:57:05.054346",
          "status": "completed"
        },
        "tags": [],
        "colab": {
          "base_uri": "https://localhost:8080/",
          "height": 449
        },
        "id": "0d39408d",
        "outputId": "8dcaf227-6fbc-476a-f9a9-9ff7ece289ff"
      },
      "outputs": [
        {
          "output_type": "display_data",
          "data": {
            "text/plain": [
              "<Figure size 640x480 with 1 Axes>"
            ],
            "image/png": "[encoded data removed]"
          },
          "metadata": {}
        }
      ],
      "source": [
        "plt.scatter(df.YearsExperience,df.Salary,color=\"g\",marker=\"*\")\n",
        "plt.xlabel(\"Years of Experience\")\n",
        "plt.ylabel(\"Salary\")\n",
        "plt.title(\"\")\n",
        "plt.show()"
      ]
    },
    {
      "cell_type": "markdown",
      "id": "a4b19206",
      "metadata": {
        "papermill": {
          "duration": 0.013647,
          "end_time": "2023-04-27T06:57:05.312137",
          "exception": false,
          "start_time": "2023-04-27T06:57:05.298490",
          "status": "completed"
        },
        "tags": [],
        "id": "a4b19206"
      },
      "source": [
        "#### Now we have split the data into x and y"
      ]
    },
    {
      "cell_type": "code",
      "execution_count": 20,
      "id": "0d16e667",
      "metadata": {
        "execution": {
          "iopub.execute_input": "2023-04-27T06:57:05.342650Z",
          "iopub.status.busy": "2023-04-27T06:57:05.342181Z",
          "iopub.status.idle": "2023-04-27T06:57:05.351114Z",
          "shell.execute_reply": "2023-04-27T06:57:05.349826Z"
        },
        "papermill": {
          "duration": 0.02751,
          "end_time": "2023-04-27T06:57:05.353664",
          "exception": false,
          "start_time": "2023-04-27T06:57:05.326154",
          "status": "completed"
        },
        "tags": [],
        "colab": {
          "base_uri": "https://localhost:8080/"
        },
        "id": "0d16e667",
        "outputId": "f04703c8-ed1e-4b3b-ed20-0b04460ac213"
      },
      "outputs": [
        {
          "output_type": "execute_result",
          "data": {
            "text/plain": [
              "pandas.core.frame.DataFrame"
            ]
          },
          "metadata": {},
          "execution_count": 20
        }
      ],
      "source": [
        "x=df.iloc[:,:-1]\n",
        "type(x)"
      ]
    },
    {
      "cell_type": "code",
      "execution_count": 21,
      "id": "6ecc9482",
      "metadata": {
        "execution": {
          "iopub.execute_input": "2023-04-27T06:57:05.384585Z",
          "iopub.status.busy": "2023-04-27T06:57:05.384116Z",
          "iopub.status.idle": "2023-04-27T06:57:05.394163Z",
          "shell.execute_reply": "2023-04-27T06:57:05.392623Z"
        },
        "papermill": {
          "duration": 0.02976,
          "end_time": "2023-04-27T06:57:05.397227",
          "exception": false,
          "start_time": "2023-04-27T06:57:05.367467",
          "status": "completed"
        },
        "tags": [],
        "colab": {
          "base_uri": "https://localhost:8080/"
        },
        "id": "6ecc9482",
        "outputId": "420eb942-dabd-4d94-97f6-77a5047623d6"
      },
      "outputs": [
        {
          "output_type": "stream",
          "name": "stdout",
          "text": [
            "    YearsExperience\n",
            "0               1.2\n",
            "1               1.4\n",
            "2               1.6\n",
            "3               2.1\n",
            "4               2.3\n",
            "5               3.0\n",
            "6               3.1\n",
            "7               3.3\n",
            "8               3.3\n",
            "9               3.8\n",
            "10              4.0\n",
            "11              4.1\n",
            "12              4.1\n",
            "13              4.2\n",
            "14              4.6\n",
            "15              5.0\n",
            "16              5.2\n",
            "17              5.4\n",
            "18              6.0\n",
            "19              6.1\n",
            "20              6.9\n",
            "21              7.2\n",
            "22              8.0\n",
            "23              8.3\n",
            "24              8.8\n",
            "25              9.1\n",
            "26              9.6\n",
            "27              9.7\n",
            "28             10.4\n",
            "29             10.6\n"
          ]
        }
      ],
      "source": [
        "print(x)"
      ]
    },
    {
      "cell_type": "code",
      "execution_count": 22,
      "id": "3ed14376",
      "metadata": {
        "execution": {
          "iopub.execute_input": "2023-04-27T06:57:05.427888Z",
          "iopub.status.busy": "2023-04-27T06:57:05.427425Z",
          "iopub.status.idle": "2023-04-27T06:57:05.436139Z",
          "shell.execute_reply": "2023-04-27T06:57:05.434777Z"
        },
        "papermill": {
          "duration": 0.026968,
          "end_time": "2023-04-27T06:57:05.438777",
          "exception": false,
          "start_time": "2023-04-27T06:57:05.411809",
          "status": "completed"
        },
        "tags": [],
        "colab": {
          "base_uri": "https://localhost:8080/"
        },
        "id": "3ed14376",
        "outputId": "ea617457-5454-424b-e492-6a43173b8758"
      },
      "outputs": [
        {
          "output_type": "execute_result",
          "data": {
            "text/plain": [
              "pandas.core.series.Series"
            ]
          },
          "metadata": {},
          "execution_count": 22
        }
      ],
      "source": [
        "y=df.iloc[:,1]\n",
        "type(y)"
      ]
    },
    {
      "cell_type": "code",
      "execution_count": 23,
      "id": "138925fd",
      "metadata": {
        "execution": {
          "iopub.execute_input": "2023-04-27T06:57:05.470563Z",
          "iopub.status.busy": "2023-04-27T06:57:05.470094Z",
          "iopub.status.idle": "2023-04-27T06:57:05.479389Z",
          "shell.execute_reply": "2023-04-27T06:57:05.477728Z"
        },
        "papermill": {
          "duration": 0.028812,
          "end_time": "2023-04-27T06:57:05.482979",
          "exception": false,
          "start_time": "2023-04-27T06:57:05.454167",
          "status": "completed"
        },
        "tags": [],
        "colab": {
          "base_uri": "https://localhost:8080/"
        },
        "id": "138925fd",
        "outputId": "f30a9967-b4bc-41ae-ce82-072419ee272c"
      },
      "outputs": [
        {
          "output_type": "stream",
          "name": "stdout",
          "text": [
            "0      39344.0\n",
            "1      46206.0\n",
            "2      37732.0\n",
            "3      43526.0\n",
            "4      39892.0\n",
            "5      56643.0\n",
            "6      60151.0\n",
            "7      54446.0\n",
            "8      64446.0\n",
            "9      57190.0\n",
            "10     63219.0\n",
            "11     55795.0\n",
            "12     56958.0\n",
            "13     57082.0\n",
            "14     61112.0\n",
            "15     67939.0\n",
            "16     66030.0\n",
            "17     83089.0\n",
            "18     81364.0\n",
            "19     93941.0\n",
            "20     91739.0\n",
            "21     98274.0\n",
            "22    101303.0\n",
            "23    113813.0\n",
            "24    109432.0\n",
            "25    105583.0\n",
            "26    116970.0\n",
            "27    112636.0\n",
            "28    122392.0\n",
            "29    121873.0\n",
            "Name: Salary, dtype: float64\n"
          ]
        }
      ],
      "source": [
        "print(y)"
      ]
    },
    {
      "cell_type": "markdown",
      "id": "e97a84e8",
      "metadata": {
        "execution": {
          "iopub.execute_input": "2023-04-27T05:13:24.061732Z",
          "iopub.status.busy": "2023-04-27T05:13:24.061234Z",
          "iopub.status.idle": "2023-04-27T05:13:24.066720Z",
          "shell.execute_reply": "2023-04-27T05:13:24.065687Z",
          "shell.execute_reply.started": "2023-04-27T05:13:24.061685Z"
        },
        "papermill": {
          "duration": 0.014267,
          "end_time": "2023-04-27T06:57:05.511974",
          "exception": false,
          "start_time": "2023-04-27T06:57:05.497707",
          "status": "completed"
        },
        "tags": [],
        "id": "e97a84e8"
      },
      "source": [
        "#### Now lets split the dataset into train and test dataset"
      ]
    },
    {
      "cell_type": "code",
      "execution_count": 24,
      "id": "211190f6",
      "metadata": {
        "execution": {
          "iopub.execute_input": "2023-04-27T06:57:05.544379Z",
          "iopub.status.busy": "2023-04-27T06:57:05.543900Z",
          "iopub.status.idle": "2023-04-27T06:57:05.825872Z",
          "shell.execute_reply": "2023-04-27T06:57:05.824179Z"
        },
        "papermill": {
          "duration": 0.302354,
          "end_time": "2023-04-27T06:57:05.829017",
          "exception": false,
          "start_time": "2023-04-27T06:57:05.526663",
          "status": "completed"
        },
        "tags": [],
        "id": "211190f6"
      },
      "outputs": [],
      "source": [
        "from sklearn.model_selection import train_test_split"
      ]
    },
    {
      "cell_type": "code",
      "execution_count": 25,
      "id": "d56e4d5c",
      "metadata": {
        "execution": {
          "iopub.execute_input": "2023-04-27T06:57:05.861157Z",
          "iopub.status.busy": "2023-04-27T06:57:05.860728Z",
          "iopub.status.idle": "2023-04-27T06:57:05.870336Z",
          "shell.execute_reply": "2023-04-27T06:57:05.868504Z"
        },
        "papermill": {
          "duration": 0.029242,
          "end_time": "2023-04-27T06:57:05.873355",
          "exception": false,
          "start_time": "2023-04-27T06:57:05.844113",
          "status": "completed"
        },
        "tags": [],
        "id": "d56e4d5c"
      },
      "outputs": [],
      "source": [
        "x_train,x_test,y_train,y_test=train_test_split(x,y,test_size=0.3)"
      ]
    },
    {
      "cell_type": "code",
      "execution_count": 26,
      "id": "766ef4f8",
      "metadata": {
        "execution": {
          "iopub.execute_input": "2023-04-27T06:57:05.906110Z",
          "iopub.status.busy": "2023-04-27T06:57:05.905651Z",
          "iopub.status.idle": "2023-04-27T06:57:05.913837Z",
          "shell.execute_reply": "2023-04-27T06:57:05.911955Z"
        },
        "papermill": {
          "duration": 0.027564,
          "end_time": "2023-04-27T06:57:05.916815",
          "exception": false,
          "start_time": "2023-04-27T06:57:05.889251",
          "status": "completed"
        },
        "tags": [],
        "colab": {
          "base_uri": "https://localhost:8080/"
        },
        "id": "766ef4f8",
        "outputId": "17b367de-fb6f-4243-bf3f-9efab898b778"
      },
      "outputs": [
        {
          "output_type": "stream",
          "name": "stdout",
          "text": [
            "(21, 1)\n",
            "(9, 1)\n",
            "(21,)\n",
            "(9,)\n"
          ]
        }
      ],
      "source": [
        "print(x_train.shape)\n",
        "print(x_test.shape)\n",
        "print(y_train.shape)\n",
        "print(y_test.shape)"
      ]
    },
    {
      "cell_type": "markdown",
      "id": "d2dcb116",
      "metadata": {
        "papermill": {
          "duration": 0.014484,
          "end_time": "2023-04-27T06:57:05.946124",
          "exception": false,
          "start_time": "2023-04-27T06:57:05.931640",
          "status": "completed"
        },
        "tags": [],
        "id": "d2dcb116"
      },
      "source": [
        "#### Now lets create and fit the model"
      ]
    },
    {
      "cell_type": "code",
      "execution_count": 27,
      "id": "980548fe",
      "metadata": {
        "execution": {
          "iopub.execute_input": "2023-04-27T06:57:05.978972Z",
          "iopub.status.busy": "2023-04-27T06:57:05.977732Z",
          "iopub.status.idle": "2023-04-27T06:57:06.086542Z",
          "shell.execute_reply": "2023-04-27T06:57:06.084861Z"
        },
        "papermill": {
          "duration": 0.128937,
          "end_time": "2023-04-27T06:57:06.089881",
          "exception": false,
          "start_time": "2023-04-27T06:57:05.960944",
          "status": "completed"
        },
        "tags": [],
        "id": "980548fe"
      },
      "outputs": [],
      "source": [
        "from sklearn.linear_model import LinearRegression"
      ]
    },
    {
      "cell_type": "code",
      "execution_count": 28,
      "id": "6fdb5907",
      "metadata": {
        "execution": {
          "iopub.execute_input": "2023-04-27T06:57:06.122378Z",
          "iopub.status.busy": "2023-04-27T06:57:06.121662Z",
          "iopub.status.idle": "2023-04-27T06:57:06.154449Z",
          "shell.execute_reply": "2023-04-27T06:57:06.152817Z"
        },
        "papermill": {
          "duration": 0.053171,
          "end_time": "2023-04-27T06:57:06.158002",
          "exception": false,
          "start_time": "2023-04-27T06:57:06.104831",
          "status": "completed"
        },
        "tags": [],
        "colab": {
          "base_uri": "https://localhost:8080/",
          "height": 75
        },
        "id": "6fdb5907",
        "outputId": "a174f65f-e4dd-4fc3-b7d9-ff2c315b331f"
      },
      "outputs": [
        {
          "output_type": "execute_result",
          "data": {
            "text/plain": [
              "LinearRegression()"
            ],
            "text/html": [
              "<style>#sk-container-id-1 {color: black;background-color: white;}#sk-container-id-1 pre{padding: 0;}#sk-container-id-1 div.sk-toggleable {background-color: white;}#sk-container-id-1 label.sk-toggleable__label {cursor: pointer;display: block;width: 100%;margin-bottom: 0;padding: 0.3em;box-sizing: border-box;text-align: center;}#sk-container-id-1 label.sk-toggleable__label-arrow:before {content: \"▸\";float: left;margin-right: 0.25em;color: #696969;}#sk-container-id-1 label.sk-toggleable__label-arrow:hover:before {color: black;}#sk-container-id-1 div.sk-estimator:hover label.sk-toggleable__label-arrow:before {color: black;}#sk-container-id-1 div.sk-toggleable__content {max-height: 0;max-width: 0;overflow: hidden;text-align: left;background-color: #f0f8ff;}#sk-container-id-1 div.sk-toggleable__content pre {margin: 0.2em;color: black;border-radius: 0.25em;background-color: #f0f8ff;}#sk-container-id-1 input.sk-toggleable__control:checked~div.sk-toggleable__content {max-height: 200px;max-width: 100%;overflow: auto;}#sk-container-id-1 input.sk-toggleable__control:checked~label.sk-toggleable__label-arrow:before {content: \"▾\";}#sk-container-id-1 div.sk-estimator input.sk-toggleable__control:checked~label.sk-toggleable__label {background-color: #d4ebff;}#sk-container-id-1 div.sk-label input.sk-toggleable__control:checked~label.sk-toggleable__label {background-color: #d4ebff;}#sk-container-id-1 input.sk-hidden--visually {border: 0;clip: rect(1px 1px 1px 1px);clip: rect(1px, 1px, 1px, 1px);height: 1px;margin: -1px;overflow: hidden;padding: 0;position: absolute;width: 1px;}#sk-container-id-1 div.sk-estimator {font-family: monospace;background-color: #f0f8ff;border: 1px dotted black;border-radius: 0.25em;box-sizing: border-box;margin-bottom: 0.5em;}#sk-container-id-1 div.sk-estimator:hover {background-color: #d4ebff;}#sk-container-id-1 div.sk-parallel-item::after {content: \"\";width: 100%;border-bottom: 1px solid gray;flex-grow: 1;}#sk-container-id-1 div.sk-label:hover label.sk-toggleable__label {background-color: #d4ebff;}#sk-container-id-1 div.sk-serial::before {content: \"\";position: absolute;border-left: 1px solid gray;box-sizing: border-box;top: 0;bottom: 0;left: 50%;z-index: 0;}#sk-container-id-1 div.sk-serial {display: flex;flex-direction: column;align-items: center;background-color: white;padding-right: 0.2em;padding-left: 0.2em;position: relative;}#sk-container-id-1 div.sk-item {position: relative;z-index: 1;}#sk-container-id-1 div.sk-parallel {display: flex;align-items: stretch;justify-content: center;background-color: white;position: relative;}#sk-container-id-1 div.sk-item::before, #sk-container-id-1 div.sk-parallel-item::before {content: \"\";position: absolute;border-left: 1px solid gray;box-sizing: border-box;top: 0;bottom: 0;left: 50%;z-index: -1;}#sk-container-id-1 div.sk-parallel-item {display: flex;flex-direction: column;z-index: 1;position: relative;background-color: white;}#sk-container-id-1 div.sk-parallel-item:first-child::after {align-self: flex-end;width: 50%;}#sk-container-id-1 div.sk-parallel-item:last-child::after {align-self: flex-start;width: 50%;}#sk-container-id-1 div.sk-parallel-item:only-child::after {width: 0;}#sk-container-id-1 div.sk-dashed-wrapped {border: 1px dashed gray;margin: 0 0.4em 0.5em 0.4em;box-sizing: border-box;padding-bottom: 0.4em;background-color: white;}#sk-container-id-1 div.sk-label label {font-family: monospace;font-weight: bold;display: inline-block;line-height: 1.2em;}#sk-container-id-1 div.sk-label-container {text-align: center;}#sk-container-id-1 div.sk-container {/* jupyter's `normalize.less` sets `[hidden] { display: none; }` but bootstrap.min.css set `[hidden] { display: none !important; }` so we also need the `!important` here to be able to override the default hidden behavior on the sphinx rendered scikit-learn.org. See: https://github.com/scikit-learn/scikit-learn/issues/21755 */display: inline-block !important;position: relative;}#sk-container-id-1 div.sk-text-repr-fallback {display: none;}</style><div id=\"sk-container-id-1\" class=\"sk-top-container\"><div class=\"sk-text-repr-fallback\"><pre>LinearRegression()</pre><b>In a Jupyter environment, please rerun this cell to show the HTML representation or trust the notebook. <br />On GitHub, the HTML representation is unable to render, please try loading this page with nbviewer.org.</b></div><div class=\"sk-container\" hidden><div class=\"sk-item\"><div class=\"sk-estimator sk-toggleable\"><input class=\"sk-toggleable__control sk-hidden--visually\" id=\"sk-estimator-id-1\" type=\"checkbox\" checked><label for=\"sk-estimator-id-1\" class=\"sk-toggleable__label sk-toggleable__label-arrow\">LinearRegression</label><div class=\"sk-toggleable__content\"><pre>LinearRegression()</pre></div></div></div></div></div>"
            ]
          },
          "metadata": {},
          "execution_count": 28
        }
      ],
      "source": [
        "model=LinearRegression()\n",
        "model.fit(x_train,y_train)"
      ]
    },
    {
      "cell_type": "code",
      "execution_count": 29,
      "id": "d3e7a06a",
      "metadata": {
        "execution": {
          "iopub.execute_input": "2023-04-27T06:57:06.191986Z",
          "iopub.status.busy": "2023-04-27T06:57:06.190429Z",
          "iopub.status.idle": "2023-04-27T06:57:06.201287Z",
          "shell.execute_reply": "2023-04-27T06:57:06.199821Z"
        },
        "papermill": {
          "duration": 0.03074,
          "end_time": "2023-04-27T06:57:06.204322",
          "exception": false,
          "start_time": "2023-04-27T06:57:06.173582",
          "status": "completed"
        },
        "tags": [],
        "colab": {
          "base_uri": "https://localhost:8080/"
        },
        "id": "d3e7a06a",
        "outputId": "a967d25f-3ecd-4596-c940-b0d35e7ba6b1"
      },
      "outputs": [
        {
          "output_type": "execute_result",
          "data": {
            "text/plain": [
              "array([119527.40386042,  83058.93385139, 118541.76953585,  56446.80708804,\n",
              "        44619.19519322, 113613.59791301, 110656.6949393 , 128398.11278153,\n",
              "        75173.85925484])"
            ]
          },
          "metadata": {},
          "execution_count": 29
        }
      ],
      "source": [
        "y_predict=model.predict(x_test)\n",
        "y_predict"
      ]
    },
    {
      "cell_type": "code",
      "execution_count": 30,
      "id": "0042bdee",
      "metadata": {
        "execution": {
          "iopub.execute_input": "2023-04-27T06:57:06.236359Z",
          "iopub.status.busy": "2023-04-27T06:57:06.235897Z",
          "iopub.status.idle": "2023-04-27T06:57:06.247129Z",
          "shell.execute_reply": "2023-04-27T06:57:06.245630Z"
        },
        "papermill": {
          "duration": 0.030907,
          "end_time": "2023-04-27T06:57:06.250213",
          "exception": false,
          "start_time": "2023-04-27T06:57:06.219306",
          "status": "completed"
        },
        "tags": [],
        "colab": {
          "base_uri": "https://localhost:8080/"
        },
        "id": "0042bdee",
        "outputId": "c92bd0a8-aa02-48c7-9ddd-9bf2a0c61662"
      },
      "outputs": [
        {
          "output_type": "execute_result",
          "data": {
            "text/plain": [
              "array([126426.84413239,  84044.56817596,  73202.5906057 ,  35748.48627211,\n",
              "        69260.05330743,  46590.46384236,  56446.80708804,  39691.02357038,\n",
              "        94886.54574621,  65317.51600916, 102771.62034275,  77145.12790398,\n",
              "        54475.53843891,  64331.88168459,  37719.75492124,  63346.24736002,\n",
              "        64331.88168459, 105728.52331646,  61374.97871088,  91929.6427725 ,\n",
              "        53489.90411434])"
            ]
          },
          "metadata": {},
          "execution_count": 30
        }
      ],
      "source": [
        "x_predict=model.predict(x_train)\n",
        "x_predict"
      ]
    },
    {
      "cell_type": "markdown",
      "id": "ac482fdd",
      "metadata": {
        "execution": {
          "iopub.execute_input": "2023-04-27T05:30:36.302817Z",
          "iopub.status.busy": "2023-04-27T05:30:36.302355Z",
          "iopub.status.idle": "2023-04-27T05:30:36.307402Z",
          "shell.execute_reply": "2023-04-27T05:30:36.306466Z",
          "shell.execute_reply.started": "2023-04-27T05:30:36.302774Z"
        },
        "papermill": {
          "duration": 0.015171,
          "end_time": "2023-04-27T06:57:06.280606",
          "exception": false,
          "start_time": "2023-04-27T06:57:06.265435",
          "status": "completed"
        },
        "tags": [],
        "id": "ac482fdd"
      },
      "source": [
        "#### Now lets create a Data Frame for the actual & Predicted"
      ]
    },
    {
      "cell_type": "code",
      "execution_count": 31,
      "id": "f2825d07",
      "metadata": {
        "execution": {
          "iopub.execute_input": "2023-04-27T06:57:06.312716Z",
          "iopub.status.busy": "2023-04-27T06:57:06.312237Z",
          "iopub.status.idle": "2023-04-27T06:57:06.326299Z",
          "shell.execute_reply": "2023-04-27T06:57:06.325128Z"
        },
        "papermill": {
          "duration": 0.03327,
          "end_time": "2023-04-27T06:57:06.328934",
          "exception": false,
          "start_time": "2023-04-27T06:57:06.295664",
          "status": "completed"
        },
        "tags": [],
        "colab": {
          "base_uri": "https://localhost:8080/",
          "height": 332
        },
        "id": "f2825d07",
        "outputId": "8e4f10d1-54b0-4f23-e682-6dd06c160fe4"
      },
      "outputs": [
        {
          "output_type": "execute_result",
          "data": {
            "text/plain": [
              "      Actual        Predict\n",
              "27  112636.0  119527.403860\n",
              "18   81364.0   83058.933851\n",
              "26  116970.0  118541.769536\n",
              "7    54446.0   56446.807088\n",
              "3    43526.0   44619.195193\n",
              "25  105583.0  113613.597913\n",
              "24  109432.0  110656.694939\n",
              "29  121873.0  128398.112782\n",
              "16   66030.0   75173.859255"
            ],
            "text/html": [
              "\n",
              "  <div id=\"df-d3d85431-ace1-4a89-912e-b3163f3c65b0\">\n",
              "    <div class=\"colab-df-container\">\n",
              "      <div>\n",
              "<style scoped>\n",
              "    .dataframe tbody tr th:only-of-type {\n",
              "        vertical-align: middle;\n",
              "    }\n",
              "\n",
              "    .dataframe tbody tr th {\n",
              "        vertical-align: top;\n",
              "    }\n",
              "\n",
              "    .dataframe thead th {\n",
              "        text-align: right;\n",
              "    }\n",
              "</style>\n",
              "<table border=\"1\" class=\"dataframe\">\n",
              "  <thead>\n",
              "    <tr style=\"text-align: right;\">\n",
              "      <th></th>\n",
              "      <th>Actual</th>\n",
              "      <th>Predict</th>\n",
              "    </tr>\n",
              "  </thead>\n",
              "  <tbody>\n",
              "    <tr>\n",
              "      <th>27</th>\n",
              "      <td>112636.0</td>\n",
              "      <td>119527.403860</td>\n",
              "    </tr>\n",
              "    <tr>\n",
              "      <th>18</th>\n",
              "      <td>81364.0</td>\n",
              "      <td>83058.933851</td>\n",
              "    </tr>\n",
              "    <tr>\n",
              "      <th>26</th>\n",
              "      <td>116970.0</td>\n",
              "      <td>118541.769536</td>\n",
              "    </tr>\n",
              "    <tr>\n",
              "      <th>7</th>\n",
              "      <td>54446.0</td>\n",
              "      <td>56446.807088</td>\n",
              "    </tr>\n",
              "    <tr>\n",
              "      <th>3</th>\n",
              "      <td>43526.0</td>\n",
              "      <td>44619.195193</td>\n",
              "    </tr>\n",
              "    <tr>\n",
              "      <th>25</th>\n",
              "      <td>105583.0</td>\n",
              "      <td>113613.597913</td>\n",
              "    </tr>\n",
              "    <tr>\n",
              "      <th>24</th>\n",
              "      <td>109432.0</td>\n",
              "      <td>110656.694939</td>\n",
              "    </tr>\n",
              "    <tr>\n",
              "      <th>29</th>\n",
              "      <td>121873.0</td>\n",
              "      <td>128398.112782</td>\n",
              "    </tr>\n",
              "    <tr>\n",
              "      <th>16</th>\n",
              "      <td>66030.0</td>\n",
              "      <td>75173.859255</td>\n",
              "    </tr>\n",
              "  </tbody>\n",
              "</table>\n",
              "</div>\n",
              "      <button class=\"colab-df-convert\" onclick=\"convertToInteractive('df-d3d85431-ace1-4a89-912e-b3163f3c65b0')\"\n",
              "              title=\"Convert this dataframe to an interactive table.\"\n",
              "              style=\"display:none;\">\n",
              "        \n",
              "  <svg xmlns=\"http://www.w3.org/2000/svg\" height=\"24px\"viewBox=\"0 0 24 24\"\n",
              "       width=\"24px\">\n",
              "    <path d=\"M0 0h24v24H0V0z\" fill=\"none\"/>\n",
              "    <path d=\"M18.56 5.44l.94 2.06.94-2.06 2.06-.94-2.06-.94-.94-2.06-.94 2.06-2.06.94zm-11 1L8.5 8.5l.94-2.06 2.06-.94-2.06-.94L8.5 2.5l-.94 2.06-2.06.94zm10 10l.94 2.06.94-2.06 2.06-.94-2.06-.94-.94-2.06-.94 2.06-2.06.94z\"/><path d=\"M17.41 7.96l-1.37-1.37c-.4-.4-.92-.59-1.43-.59-.52 0-1.04.2-1.43.59L10.3 9.45l-7.72 7.72c-.78.78-.78 2.05 0 2.83L4 21.41c.39.39.9.59 1.41.59.51 0 1.02-.2 1.41-.59l7.78-7.78 2.81-2.81c.8-.78.8-2.07 0-2.86zM5.41 20L4 18.59l7.72-7.72 1.47 1.35L5.41 20z\"/>\n",
              "  </svg>\n",
              "      </button>\n",
              "      \n",
              "  <style>\n",
              "    .colab-df-container {\n",
              "      display:flex;\n",
              "      flex-wrap:wrap;\n",
              "      gap: 12px;\n",
              "    }\n",
              "\n",
              "    .colab-df-convert {\n",
              "      background-color: #E8F0FE;\n",
              "      border: none;\n",
              "      border-radius: 50%;\n",
              "      cursor: pointer;\n",
              "      display: none;\n",
              "      fill: #1967D2;\n",
              "      height: 32px;\n",
              "      padding: 0 0 0 0;\n",
              "      width: 32px;\n",
              "    }\n",
              "\n",
              "    .colab-df-convert:hover {\n",
              "      background-color: #E2EBFA;\n",
              "      box-shadow: 0px 1px 2px rgba(60, 64, 67, 0.3), 0px 1px 3px 1px rgba(60, 64, 67, 0.15);\n",
              "      fill: #174EA6;\n",
              "    }\n",
              "\n",
              "    [theme=dark] .colab-df-convert {\n",
              "      background-color: #3B4455;\n",
              "      fill: #D2E3FC;\n",
              "    }\n",
              "\n",
              "    [theme=dark] .colab-df-convert:hover {\n",
              "      background-color: #434B5C;\n",
              "      box-shadow: 0px 1px 3px 1px rgba(0, 0, 0, 0.15);\n",
              "      filter: drop-shadow(0px 1px 2px rgba(0, 0, 0, 0.3));\n",
              "      fill: #FFFFFF;\n",
              "    }\n",
              "  </style>\n",
              "\n",
              "      <script>\n",
              "        const buttonEl =\n",
              "          document.querySelector('#df-d3d85431-ace1-4a89-912e-b3163f3c65b0 button.colab-df-convert');\n",
              "        buttonEl.style.display =\n",
              "          google.colab.kernel.accessAllowed ? 'block' : 'none';\n",
              "\n",
              "        async function convertToInteractive(key) {\n",
              "          const element = document.querySelector('#df-d3d85431-ace1-4a89-912e-b3163f3c65b0');\n",
              "          const dataTable =\n",
              "            await google.colab.kernel.invokeFunction('convertToInteractive',\n",
              "                                                     [key], {});\n",
              "          if (!dataTable) return;\n",
              "\n",
              "          const docLinkHtml = 'Like what you see? Visit the ' +\n",
              "            '<a target=\"_blank\" href=https://colab.research.google.com/notebooks/data_table.ipynb>data table notebook</a>'\n",
              "            + ' to learn more about interactive tables.';\n",
              "          element.innerHTML = '';\n",
              "          dataTable['output_type'] = 'display_data';\n",
              "          await google.colab.output.renderOutput(dataTable, element);\n",
              "          const docLink = document.createElement('div');\n",
              "          docLink.innerHTML = docLinkHtml;\n",
              "          element.appendChild(docLink);\n",
              "        }\n",
              "      </script>\n",
              "    </div>\n",
              "  </div>\n",
              "  "
            ]
          },
          "metadata": {},
          "execution_count": 31
        }
      ],
      "source": [
        "new_df=pd.DataFrame({\"Actual\":y_test,\"Predict\":y_predict})\n",
        "new_df"
      ]
    },
    {
      "cell_type": "markdown",
      "id": "b7834c73",
      "metadata": {
        "execution": {
          "iopub.execute_input": "2023-04-27T05:33:27.991855Z",
          "iopub.status.busy": "2023-04-27T05:33:27.991397Z",
          "iopub.status.idle": "2023-04-27T05:33:27.997582Z",
          "shell.execute_reply": "2023-04-27T05:33:27.996217Z",
          "shell.execute_reply.started": "2023-04-27T05:33:27.991814Z"
        },
        "papermill": {
          "duration": 0.014724,
          "end_time": "2023-04-27T06:57:06.358695",
          "exception": false,
          "start_time": "2023-04-27T06:57:06.343971",
          "status": "completed"
        },
        "tags": [],
        "id": "b7834c73"
      },
      "source": [
        "### Now lets visualize the test and train data"
      ]
    },
    {
      "cell_type": "code",
      "execution_count": 32,
      "id": "c4ee8e6c",
      "metadata": {
        "execution": {
          "iopub.execute_input": "2023-04-27T06:57:06.391216Z",
          "iopub.status.busy": "2023-04-27T06:57:06.390781Z",
          "iopub.status.idle": "2023-04-27T06:57:06.599437Z",
          "shell.execute_reply": "2023-04-27T06:57:06.598075Z"
        },
        "papermill": {
          "duration": 0.228709,
          "end_time": "2023-04-27T06:57:06.602489",
          "exception": false,
          "start_time": "2023-04-27T06:57:06.373780",
          "status": "completed"
        },
        "tags": [],
        "colab": {
          "base_uri": "https://localhost:8080/",
          "height": 452
        },
        "id": "c4ee8e6c",
        "outputId": "88539354-9d91-4078-ebfd-5471e1e76621"
      },
      "outputs": [
        {
          "output_type": "display_data",
          "data": {
            "text/plain": [
              "<Figure size 640x480 with 1 Axes>"
            ],
            "image/png": "[encoded data removed]"
          },
          "metadata": {}
        }
      ],
      "source": [
        "plt.scatter(x_train,y_train,color=\"r\",marker=\"*\")\n",
        "#plt.plot(x_train,y_predict,color=\"b\")\n",
        "plt.title(\"Visualizing training dataset\")\n",
        "plt.show()"
      ]
    },
    {
      "cell_type": "code",
      "execution_count": 33,
      "id": "4c2831ca",
      "metadata": {
        "execution": {
          "iopub.execute_input": "2023-04-27T06:57:06.636424Z",
          "iopub.status.busy": "2023-04-27T06:57:06.635262Z",
          "iopub.status.idle": "2023-04-27T06:57:06.846487Z",
          "shell.execute_reply": "2023-04-27T06:57:06.844742Z"
        },
        "papermill": {
          "duration": 0.231749,
          "end_time": "2023-04-27T06:57:06.849717",
          "exception": false,
          "start_time": "2023-04-27T06:57:06.617968",
          "status": "completed"
        },
        "tags": [],
        "colab": {
          "base_uri": "https://localhost:8080/",
          "height": 452
        },
        "id": "4c2831ca",
        "outputId": "2ef3777f-b16b-4f5e-e852-da1342933a13"
      },
      "outputs": [
        {
          "output_type": "display_data",
          "data": {
            "text/plain": [
              "<Figure size 640x480 with 1 Axes>"
            ],
            "image/png": "[encoded data removed]"
          },
          "metadata": {}
        }
      ],
      "source": [
        "plt.scatter(x_test,y_test,color=\"r\",marker=\"*\")\n",
        "#plt.plot(x_train,y_predict,color=\"b\")\n",
        "plt.title(\"Visualizing test dataset\")\n",
        "plt.show()"
      ]
    },
    {
      "cell_type": "markdown",
      "id": "8766f29d",
      "metadata": {
        "execution": {
          "iopub.execute_input": "2023-04-27T05:38:23.605721Z",
          "iopub.status.busy": "2023-04-27T05:38:23.605149Z",
          "iopub.status.idle": "2023-04-27T05:38:23.611370Z",
          "shell.execute_reply": "2023-04-27T05:38:23.610010Z",
          "shell.execute_reply.started": "2023-04-27T05:38:23.605640Z"
        },
        "papermill": {
          "duration": 0.015716,
          "end_time": "2023-04-27T06:57:06.881803",
          "exception": false,
          "start_time": "2023-04-27T06:57:06.866087",
          "status": "completed"
        },
        "tags": [],
        "id": "8766f29d"
      },
      "source": [
        "#### Now lets check the Score"
      ]
    },
    {
      "cell_type": "code",
      "execution_count": 34,
      "id": "71da6347",
      "metadata": {
        "execution": {
          "iopub.execute_input": "2023-04-27T06:57:06.916725Z",
          "iopub.status.busy": "2023-04-27T06:57:06.915559Z",
          "iopub.status.idle": "2023-04-27T06:57:06.927400Z",
          "shell.execute_reply": "2023-04-27T06:57:06.926255Z"
        },
        "papermill": {
          "duration": 0.031833,
          "end_time": "2023-04-27T06:57:06.929924",
          "exception": false,
          "start_time": "2023-04-27T06:57:06.898091",
          "status": "completed"
        },
        "tags": [],
        "colab": {
          "base_uri": "https://localhost:8080/"
        },
        "id": "71da6347",
        "outputId": "9442ed41-fb8e-41fa-c67e-112dee47a528"
      },
      "outputs": [
        {
          "output_type": "execute_result",
          "data": {
            "text/plain": [
              "93.67430758953937"
            ]
          },
          "metadata": {},
          "execution_count": 34
        }
      ],
      "source": [
        "model.score(x_train,y_train)*100"
      ]
    },
    {
      "cell_type": "code",
      "execution_count": 35,
      "id": "d06b945f",
      "metadata": {
        "execution": {
          "iopub.execute_input": "2023-04-27T06:57:06.964840Z",
          "iopub.status.busy": "2023-04-27T06:57:06.963494Z",
          "iopub.status.idle": "2023-04-27T06:57:06.974579Z",
          "shell.execute_reply": "2023-04-27T06:57:06.973326Z"
        },
        "papermill": {
          "duration": 0.031059,
          "end_time": "2023-04-27T06:57:06.977115",
          "exception": false,
          "start_time": "2023-04-27T06:57:06.946056",
          "status": "completed"
        },
        "tags": [],
        "colab": {
          "base_uri": "https://localhost:8080/"
        },
        "id": "d06b945f",
        "outputId": "f26609d8-bf25-4800-805d-d091035258f6"
      },
      "outputs": [
        {
          "output_type": "execute_result",
          "data": {
            "text/plain": [
              "96.39920772963748"
            ]
          },
          "metadata": {},
          "execution_count": 35
        }
      ],
      "source": [
        "model.score(x_test,y_test)*100"
      ]
    },
    {
      "cell_type": "markdown",
      "id": "1781d42c",
      "metadata": {
        "execution": {
          "iopub.execute_input": "2023-04-27T05:48:38.787751Z",
          "iopub.status.busy": "2023-04-27T05:48:38.787261Z",
          "iopub.status.idle": "2023-04-27T05:48:38.793827Z",
          "shell.execute_reply": "2023-04-27T05:48:38.792264Z",
          "shell.execute_reply.started": "2023-04-27T05:48:38.787706Z"
        },
        "papermill": {
          "duration": 0.017119,
          "end_time": "2023-04-27T06:57:07.010174",
          "exception": false,
          "start_time": "2023-04-27T06:57:06.993055",
          "status": "completed"
        },
        "tags": [],
        "id": "1781d42c"
      },
      "source": [
        "#### Here the score is very good for both train and test data\n",
        "\n",
        "#### Now lets calculate the accuracy of the model"
      ]
    },
    {
      "cell_type": "markdown",
      "id": "3fc6461f",
      "metadata": {
        "execution": {
          "iopub.execute_input": "2023-04-27T06:47:04.647759Z",
          "iopub.status.busy": "2023-04-27T06:47:04.647266Z",
          "iopub.status.idle": "2023-04-27T06:47:04.671634Z",
          "shell.execute_reply": "2023-04-27T06:47:04.670647Z",
          "shell.execute_reply.started": "2023-04-27T06:47:04.647721Z"
        },
        "papermill": {
          "duration": 0.015876,
          "end_time": "2023-04-27T06:57:07.042715",
          "exception": false,
          "start_time": "2023-04-27T06:57:07.026839",
          "status": "completed"
        },
        "tags": [],
        "id": "3fc6461f"
      },
      "source": [
        " - Mean Square Error"
      ]
    },
    {
      "cell_type": "code",
      "execution_count": 36,
      "id": "160490bf",
      "metadata": {
        "execution": {
          "iopub.execute_input": "2023-04-27T06:57:07.077640Z",
          "iopub.status.busy": "2023-04-27T06:57:07.077190Z",
          "iopub.status.idle": "2023-04-27T06:57:07.085887Z",
          "shell.execute_reply": "2023-04-27T06:57:07.084316Z"
        },
        "papermill": {
          "duration": 0.029968,
          "end_time": "2023-04-27T06:57:07.088855",
          "exception": false,
          "start_time": "2023-04-27T06:57:07.058887",
          "status": "completed"
        },
        "tags": [],
        "colab": {
          "base_uri": "https://localhost:8080/"
        },
        "id": "160490bf",
        "outputId": "c9d7647e-0a58-45c5-9987-bbcca81efb5c"
      },
      "outputs": [
        {
          "output_type": "execute_result",
          "data": {
            "text/plain": [
              "27801183.506059866"
            ]
          },
          "metadata": {},
          "execution_count": 36
        }
      ],
      "source": [
        "from sklearn.metrics import mean_squared_error\n",
        "mean_squared_error(y_test,y_predict)"
      ]
    },
    {
      "cell_type": "code",
      "execution_count": 37,
      "id": "6f73a6fc",
      "metadata": {
        "execution": {
          "iopub.execute_input": "2023-04-27T06:57:07.123761Z",
          "iopub.status.busy": "2023-04-27T06:57:07.123269Z",
          "iopub.status.idle": "2023-04-27T06:57:07.131487Z",
          "shell.execute_reply": "2023-04-27T06:57:07.130494Z"
        },
        "papermill": {
          "duration": 0.028545,
          "end_time": "2023-04-27T06:57:07.133840",
          "exception": false,
          "start_time": "2023-04-27T06:57:07.105295",
          "status": "completed"
        },
        "tags": [],
        "colab": {
          "base_uri": "https://localhost:8080/"
        },
        "id": "6f73a6fc",
        "outputId": "1149409f-030a-442f-85cd-7732c0b5cf97"
      },
      "outputs": [
        {
          "output_type": "execute_result",
          "data": {
            "text/plain": [
              "5272.682761750404"
            ]
          },
          "metadata": {},
          "execution_count": 37
        }
      ],
      "source": [
        "np.sqrt(mean_squared_error(y_test,y_predict))"
      ]
    },
    {
      "cell_type": "markdown",
      "id": "379f1399",
      "metadata": {
        "execution": {
          "iopub.execute_input": "2023-04-27T06:49:21.619281Z",
          "iopub.status.busy": "2023-04-27T06:49:21.618846Z",
          "iopub.status.idle": "2023-04-27T06:49:21.626359Z",
          "shell.execute_reply": "2023-04-27T06:49:21.624740Z",
          "shell.execute_reply.started": "2023-04-27T06:49:21.619243Z"
        },
        "papermill": {
          "duration": 0.016572,
          "end_time": "2023-04-27T06:57:07.166836",
          "exception": false,
          "start_time": "2023-04-27T06:57:07.150264",
          "status": "completed"
        },
        "tags": [],
        "id": "379f1399"
      },
      "source": [
        " - Mean Absolute Error"
      ]
    },
    {
      "cell_type": "code",
      "execution_count": 38,
      "id": "3a63e1fc",
      "metadata": {
        "execution": {
          "iopub.execute_input": "2023-04-27T06:57:07.202428Z",
          "iopub.status.busy": "2023-04-27T06:57:07.201570Z",
          "iopub.status.idle": "2023-04-27T06:57:07.209837Z",
          "shell.execute_reply": "2023-04-27T06:57:07.208415Z"
        },
        "papermill": {
          "duration": 0.029303,
          "end_time": "2023-04-27T06:57:07.212650",
          "exception": false,
          "start_time": "2023-04-27T06:57:07.183347",
          "status": "completed"
        },
        "tags": [],
        "colab": {
          "base_uri": "https://localhost:8080/"
        },
        "id": "3a63e1fc",
        "outputId": "0f172f37-af57-44d2-ee4b-dccf2a0453b1"
      },
      "outputs": [
        {
          "output_type": "execute_result",
          "data": {
            "text/plain": [
              "4241.819379732466"
            ]
          },
          "metadata": {},
          "execution_count": 38
        }
      ],
      "source": [
        "from sklearn.metrics import mean_absolute_error\n",
        "mean_absolute_error(y_test,y_predict)"
      ]
    },
    {
      "cell_type": "markdown",
      "id": "fd81d11a",
      "metadata": {
        "papermill": {
          "duration": 0.016084,
          "end_time": "2023-04-27T06:57:07.245560",
          "exception": false,
          "start_time": "2023-04-27T06:57:07.229476",
          "status": "completed"
        },
        "tags": [],
        "id": "fd81d11a"
      },
      "source": [
        " - R2 Score"
      ]
    },
    {
      "cell_type": "code",
      "execution_count": 39,
      "id": "8d53d417",
      "metadata": {
        "execution": {
          "iopub.execute_input": "2023-04-27T06:57:07.281020Z",
          "iopub.status.busy": "2023-04-27T06:57:07.280024Z",
          "iopub.status.idle": "2023-04-27T06:57:07.288919Z",
          "shell.execute_reply": "2023-04-27T06:57:07.287391Z"
        },
        "papermill": {
          "duration": 0.029714,
          "end_time": "2023-04-27T06:57:07.291631",
          "exception": false,
          "start_time": "2023-04-27T06:57:07.261917",
          "status": "completed"
        },
        "tags": [],
        "colab": {
          "base_uri": "https://localhost:8080/"
        },
        "id": "8d53d417",
        "outputId": "cee22748-4f0e-42c1-b7da-1a3dca94dfc7"
      },
      "outputs": [
        {
          "output_type": "execute_result",
          "data": {
            "text/plain": [
              "96.39920772963748"
            ]
          },
          "metadata": {},
          "execution_count": 39
        }
      ],
      "source": [
        "from sklearn.metrics import r2_score\n",
        "r2_score(y_test,y_predict)*100\n"
      ]
    },
    {
      "cell_type": "code",
      "execution_count": 39,
      "id": "be24dc9b",
      "metadata": {
        "papermill": {
          "duration": 0.01619,
          "end_time": "2023-04-27T06:57:07.324594",
          "exception": false,
          "start_time": "2023-04-27T06:57:07.308404",
          "status": "completed"
        },
        "tags": [],
        "id": "be24dc9b"
      },
      "outputs": [],
      "source": []
    }
  ],
  "metadata": {
    "kernelspec": {
      "display_name": "Python 3",
      "language": "python",
      "name": "python3"
    },
    "language_info": {
      "codemirror_mode": {
        "name": "ipython",
        "version": 3
      },
      "file_extension": ".py",
      "mimetype": "text/x-python",
      "name": "python",
      "nbconvert_exporter": "python",
      "pygments_lexer": "ipython3",
      "version": "3.7.12"
    },
    "papermill": {
      "default_parameters": {},
      "duration": 17.146724,
      "end_time": "2023-04-27T06:57:08.468842",
      "environment_variables": {},
      "exception": null,
      "input_path": "__notebook__.ipynb",
      "output_path": "__notebook__.ipynb",
      "parameters": {},
      "start_time": "2023-04-27T06:56:51.322118",
      "version": "2.4.0"
    },
    "colab": {
      "provenance": [],
      "include_colab_link": true
    }
  },
  "nbformat": 4,
  "nbformat_minor": 5
}